{
  "nbformat": 4,
  "nbformat_minor": 0,
  "metadata": {
    "kernelspec": {
      "display_name": "Python 3",
      "language": "python",
      "name": "python3"
    },
    "language_info": {
      "codemirror_mode": {
        "name": "ipython",
        "version": 3
      },
      "file_extension": ".py",
      "mimetype": "text/x-python",
      "name": "python",
      "nbconvert_exporter": "python",
      "pygments_lexer": "ipython3",
      "version": "3.7.10"
    },
    "colab": {
      "name": "09_unsupervised_learning.ipynb",
      "provenance": []
    }
  },
  "cells": [
    {
      "cell_type": "markdown",
      "metadata": {
        "id": "j61O0vMlewhC"
      },
      "source": [
        "**Chapter 9 – Unsupervised Learning**\n",
        "\n",
        "_This notebook contains all the sample code in chapter 9._"
      ]
    },
    {
      "cell_type": "markdown",
      "metadata": {
        "id": "M2zi19W0ewhG"
      },
      "source": [
        "<table align=\"left\">\n",
        "  <td>\n",
        "    <a href=\"https://colab.research.google.com/github/ageron/handson-ml2/blob/master/09_unsupervised_learning.ipynb\" target=\"_parent\"><img src=\"https://colab.research.google.com/assets/colab-badge.svg\" alt=\"Open In Colab\"/></a>\n",
        "  </td>\n",
        "  <td>\n",
        "    <a target=\"_blank\" href=\"https://kaggle.com/kernels/welcome?src=https://github.com/ageron/handson-ml2/blob/master/09_unsupervised_learning.ipynb\"><img src=\"https://kaggle.com/static/images/open-in-kaggle.svg\" /></a>\n",
        "  </td>\n",
        "</table>"
      ]
    },
    {
      "cell_type": "markdown",
      "metadata": {
        "id": "mDX0g-NsewhH"
      },
      "source": [
        "# Setup"
      ]
    },
    {
      "cell_type": "markdown",
      "metadata": {
        "id": "l4KzQekOewhH"
      },
      "source": [
        "First, let's import a few common modules, ensure MatplotLib plots figures inline and prepare a function to save the figures. We also check that Python 3.5 or later is installed (although Python 2.x may work, it is deprecated so we strongly recommend you use Python 3 instead), as well as Scikit-Learn ≥0.20."
      ]
    },
    {
      "cell_type": "code",
      "metadata": {
        "id": "MacoPtN8ewhI"
      },
      "source": [
        "# Python ≥3.5 is required\n",
        "import sys\n",
        "assert sys.version_info >= (3, 5)\n",
        "\n",
        "# Scikit-Learn ≥0.20 is required\n",
        "import sklearn\n",
        "assert sklearn.__version__ >= \"0.20\"\n",
        "\n",
        "# Common imports\n",
        "import numpy as np\n",
        "import os\n",
        "\n",
        "# to make this notebook's output stable across runs\n",
        "np.random.seed(42)\n",
        "\n",
        "# To plot pretty figures\n",
        "%matplotlib inline\n",
        "import matplotlib as mpl\n",
        "import matplotlib.pyplot as plt\n",
        "mpl.rc('axes', labelsize=14)\n",
        "mpl.rc('xtick', labelsize=12)\n",
        "mpl.rc('ytick', labelsize=12)\n",
        "\n",
        "# Where to save the figures\n",
        "PROJECT_ROOT_DIR = \".\"\n",
        "CHAPTER_ID = \"unsupervised_learning\"\n",
        "IMAGES_PATH = os.path.join(PROJECT_ROOT_DIR, \"images\", CHAPTER_ID)\n",
        "os.makedirs(IMAGES_PATH, exist_ok=True)\n",
        "\n",
        "def save_fig(fig_id, tight_layout=True, fig_extension=\"png\", resolution=300):\n",
        "    path = os.path.join(IMAGES_PATH, fig_id + \".\" + fig_extension)\n",
        "    print(\"Saving figure\", fig_id)\n",
        "    if tight_layout:\n",
        "        plt.tight_layout()\n",
        "    plt.savefig(path, format=fig_extension, dpi=resolution)"
      ],
      "execution_count": 38,
      "outputs": []
    },
    {
      "cell_type": "code",
      "metadata": {
        "id": "SuGVKYtlewhL"
      },
      "source": [
        "from sklearn.datasets import load_iris"
      ],
      "execution_count": 39,
      "outputs": []
    },
    {
      "cell_type": "code",
      "metadata": {
        "id": "c-UM68CgewhL",
        "outputId": "863b73ae-63a6-4a96-8b4c-1e99257eb136",
        "colab": {
          "base_uri": "https://localhost:8080/"
        }
      },
      "source": [
        "data = load_iris()\n",
        "X = data.data\n",
        "y = data.target\n",
        "data.target_names"
      ],
      "execution_count": 40,
      "outputs": [
        {
          "output_type": "execute_result",
          "data": {
            "text/plain": [
              "array(['setosa', 'versicolor', 'virginica'], dtype='<U10')"
            ]
          },
          "metadata": {},
          "execution_count": 40
        }
      ]
    },
    {
      "cell_type": "markdown",
      "metadata": {
        "id": "M2-QpTBQewhQ"
      },
      "source": [
        "## K-Means"
      ]
    },
    {
      "cell_type": "markdown",
      "metadata": {
        "id": "EyLA1N8bewhQ"
      },
      "source": [
        "Let's start by generating some blobs:"
      ]
    },
    {
      "cell_type": "code",
      "metadata": {
        "id": "0mh9-zOZewhQ"
      },
      "source": [
        "from sklearn.datasets import make_blobs"
      ],
      "execution_count": 41,
      "outputs": []
    },
    {
      "cell_type": "code",
      "metadata": {
        "id": "cLPU-QIoewhR"
      },
      "source": [
        "blob_centers = np.array(\n",
        "    [[ 0.2,  2.3],\n",
        "     [-1.5 ,  2.3],\n",
        "     [-2.8,  1.8],\n",
        "     [-2.8,  2.8],\n",
        "     [-2.8,  1.3]])\n",
        "blob_std = np.array([0.4, 0.3, 0.1, 0.1, 0.1])"
      ],
      "execution_count": 42,
      "outputs": []
    },
    {
      "cell_type": "code",
      "metadata": {
        "id": "ZkhRgsyYewhR"
      },
      "source": [
        "X, y = make_blobs(n_samples=200, centers=blob_centers,\n",
        "                  cluster_std=blob_std, random_state=7)"
      ],
      "execution_count": 43,
      "outputs": []
    },
    {
      "cell_type": "markdown",
      "metadata": {
        "id": "mXkKVzm0ewhR"
      },
      "source": [
        "Now let's plot them:"
      ]
    },
    {
      "cell_type": "code",
      "metadata": {
        "id": "yD0n1cceewhR"
      },
      "source": [
        "def plot_clusters(X, y=None):\n",
        "    plt.scatter(X[:, 0], X[:, 1], c=y, s=1)\n",
        "    plt.xlabel(\"$x_1$\", fontsize=14)\n",
        "    plt.ylabel(\"$x_2$\", fontsize=14, rotation=0)"
      ],
      "execution_count": 44,
      "outputs": []
    },
    {
      "cell_type": "code",
      "metadata": {
        "id": "Vc0t4_UeewhR",
        "outputId": "d37e4a30-fce9-480f-e94f-abfcb76a956a",
        "colab": {
          "base_uri": "https://localhost:8080/",
          "height": 314
        }
      },
      "source": [
        "plt.figure(figsize=(8, 4))\n",
        "plot_clusters(X)\n",
        "save_fig(\"blobs_plot\")\n",
        "plt.show()"
      ],
      "execution_count": 45,
      "outputs": [
        {
          "output_type": "stream",
          "name": "stdout",
          "text": [
            "Saving figure blobs_plot\n"
          ]
        },
        {
          "output_type": "display_data",
          "data": {
            "image/png": "[encoded data removed]",
            "text/plain": [
              "<Figure size 576x288 with 1 Axes>"
            ]
          },
          "metadata": {
            "needs_background": "light"
          }
        }
      ]
    },
    {
      "cell_type": "markdown",
      "metadata": {
        "id": "Qnazng4sewhR"
      },
      "source": [
        "**Fit and predict**"
      ]
    },
    {
      "cell_type": "markdown",
      "metadata": {
        "id": "CuswxWyMewhR"
      },
      "source": [
        "Let's train a K-Means clusterer on this dataset. It will try to find each blob's center and assign each instance to the closest blob:"
      ]
    },
    {
      "cell_type": "code",
      "metadata": {
        "id": "-OYjkJiGewhS"
      },
      "source": [
        "from sklearn.cluster import KMeans"
      ],
      "execution_count": 46,
      "outputs": []
    },
    {
      "cell_type": "code",
      "metadata": {
        "id": "mRfRJfrqewhS"
      },
      "source": [
        "k = 5\n",
        "kmeans = KMeans(n_clusters=k, random_state=42)\n",
        "y_pred = kmeans.fit_predict(X)"
      ],
      "execution_count": 47,
      "outputs": []
    },
    {
      "cell_type": "markdown",
      "metadata": {
        "id": "EPZOrAUKewhS"
      },
      "source": [
        "Each instance was assigned to one of the 5 clusters:"
      ]
    },
    {
      "cell_type": "code",
      "metadata": {
        "id": "zXtSU0S9ewhS",
        "outputId": "13e6e46d-acb6-408f-8ea8-733a97ae3959",
        "colab": {
          "base_uri": "https://localhost:8080/"
        }
      },
      "source": [
        "y_pred"
      ],
      "execution_count": 48,
      "outputs": [
        {
          "output_type": "execute_result",
          "data": {
            "text/plain": [
              "array([3, 4, 3, 1, 0, 0, 0, 4, 1, 0, 4, 4, 3, 1, 2, 3, 1, 1, 3, 2, 4, 1,\n",
              "       4, 4, 4, 0, 2, 0, 4, 2, 3, 0, 4, 0, 2, 2, 1, 4, 4, 3, 3, 4, 3, 0,\n",
              "       1, 1, 2, 1, 2, 2, 4, 1, 0, 3, 4, 3, 1, 0, 3, 4, 1, 4, 0, 4, 1, 2,\n",
              "       3, 0, 2, 3, 0, 4, 3, 1, 0, 1, 3, 2, 1, 2, 4, 0, 4, 2, 1, 1, 3, 2,\n",
              "       3, 0, 0, 2, 0, 1, 3, 3, 0, 4, 2, 1, 4, 4, 0, 4, 2, 1, 0, 2, 3, 1,\n",
              "       1, 4, 2, 3, 0, 1, 3, 0, 2, 2, 2, 1, 0, 2, 4, 0, 2, 3, 2, 1, 2, 1,\n",
              "       0, 0, 3, 3, 4, 4, 2, 3, 0, 0, 4, 0, 2, 1, 2, 4, 3, 3, 2, 4, 4, 3,\n",
              "       0, 0, 2, 3, 1, 4, 0, 2, 3, 0, 3, 4, 3, 4, 0, 4, 3, 2, 3, 3, 1, 3,\n",
              "       0, 1, 1, 0, 2, 0, 2, 2, 1, 1, 4, 3, 4, 2, 0, 4, 1, 2, 2, 1, 1, 3,\n",
              "       1, 1], dtype=int32)"
            ]
          },
          "metadata": {},
          "execution_count": 48
        }
      ]
    },
    {
      "cell_type": "code",
      "metadata": {
        "id": "u6kuuJnnewhS",
        "outputId": "6befb7ce-657a-4ea2-bc39-83ea8fee2826",
        "colab": {
          "base_uri": "https://localhost:8080/"
        }
      },
      "source": [
        "y_pred is kmeans.labels_"
      ],
      "execution_count": 49,
      "outputs": [
        {
          "output_type": "execute_result",
          "data": {
            "text/plain": [
              "True"
            ]
          },
          "metadata": {},
          "execution_count": 49
        }
      ]
    },
    {
      "cell_type": "markdown",
      "metadata": {
        "id": "aYKi3JgLewhS"
      },
      "source": [
        "And the following 5 _centroids_ (i.e., cluster centers) were estimated:"
      ]
    },
    {
      "cell_type": "code",
      "metadata": {
        "id": "cn1vBCHYewhT",
        "outputId": "712d885e-d7b4-467b-b871-c5402fe3b3e1",
        "colab": {
          "base_uri": "https://localhost:8080/"
        }
      },
      "source": [
        "kmeans.cluster_centers_"
      ],
      "execution_count": 50,
      "outputs": [
        {
          "output_type": "execute_result",
          "data": {
            "text/plain": [
              "array([[-2.7922371 ,  2.78720692],\n",
              "       [ 0.21991005,  2.23042249],\n",
              "       [-2.81091229,  1.28069857],\n",
              "       [-1.49236616,  2.29502585],\n",
              "       [-2.82250466,  1.81922531]])"
            ]
          },
          "metadata": {},
          "execution_count": 50
        }
      ]
    },
    {
      "cell_type": "markdown",
      "metadata": {
        "id": "2nRIkiODewhT"
      },
      "source": [
        "Note that the `KMeans` instance preserves the labels of the instances it was trained on. Somewhat confusingly, in this context, the _label_ of an instance is the index of the cluster that instance gets assigned to:"
      ]
    },
    {
      "cell_type": "code",
      "metadata": {
        "id": "uWd9OVHllNy3",
        "outputId": "a1360537-378c-4289-e40d-b873566a56de",
        "colab": {
          "base_uri": "https://localhost:8080/"
        }
      },
      "source": [
        "len(kmeans.labels_)"
      ],
      "execution_count": 51,
      "outputs": [
        {
          "output_type": "execute_result",
          "data": {
            "text/plain": [
              "200"
            ]
          },
          "metadata": {},
          "execution_count": 51
        }
      ]
    },
    {
      "cell_type": "code",
      "metadata": {
        "id": "PkWbHJTAewhT",
        "outputId": "6dc090aa-9489-4e07-e3c6-691187e94577",
        "colab": {
          "base_uri": "https://localhost:8080/"
        }
      },
      "source": [
        "kmeans.labels_"
      ],
      "execution_count": 52,
      "outputs": [
        {
          "output_type": "execute_result",
          "data": {
            "text/plain": [
              "array([3, 4, 3, 1, 0, 0, 0, 4, 1, 0, 4, 4, 3, 1, 2, 3, 1, 1, 3, 2, 4, 1,\n",
              "       4, 4, 4, 0, 2, 0, 4, 2, 3, 0, 4, 0, 2, 2, 1, 4, 4, 3, 3, 4, 3, 0,\n",
              "       1, 1, 2, 1, 2, 2, 4, 1, 0, 3, 4, 3, 1, 0, 3, 4, 1, 4, 0, 4, 1, 2,\n",
              "       3, 0, 2, 3, 0, 4, 3, 1, 0, 1, 3, 2, 1, 2, 4, 0, 4, 2, 1, 1, 3, 2,\n",
              "       3, 0, 0, 2, 0, 1, 3, 3, 0, 4, 2, 1, 4, 4, 0, 4, 2, 1, 0, 2, 3, 1,\n",
              "       1, 4, 2, 3, 0, 1, 3, 0, 2, 2, 2, 1, 0, 2, 4, 0, 2, 3, 2, 1, 2, 1,\n",
              "       0, 0, 3, 3, 4, 4, 2, 3, 0, 0, 4, 0, 2, 1, 2, 4, 3, 3, 2, 4, 4, 3,\n",
              "       0, 0, 2, 3, 1, 4, 0, 2, 3, 0, 3, 4, 3, 4, 0, 4, 3, 2, 3, 3, 1, 3,\n",
              "       0, 1, 1, 0, 2, 0, 2, 2, 1, 1, 4, 3, 4, 2, 0, 4, 1, 2, 2, 1, 1, 3,\n",
              "       1, 1], dtype=int32)"
            ]
          },
          "metadata": {},
          "execution_count": 52
        }
      ]
    },
    {
      "cell_type": "markdown",
      "metadata": {
        "id": "DdU3JXoWewhT"
      },
      "source": [
        "Of course, we can predict the labels of new instances:"
      ]
    },
    {
      "cell_type": "code",
      "metadata": {
        "id": "keHPJfR_ewhT",
        "outputId": "61e1b9c8-5f86-4385-aff0-0974576d46b5",
        "colab": {
          "base_uri": "https://localhost:8080/"
        }
      },
      "source": [
        "X_new = np.array([[0, 2], [3, 2], [-3, 3], [-3, 2.5]])\n",
        "kmeans.predict(X_new)"
      ],
      "execution_count": 53,
      "outputs": [
        {
          "output_type": "execute_result",
          "data": {
            "text/plain": [
              "array([1, 1, 0, 0], dtype=int32)"
            ]
          },
          "metadata": {},
          "execution_count": 53
        }
      ]
    },
    {
      "cell_type": "markdown",
      "metadata": {
        "id": "Wx4_uFE6ewhT"
      },
      "source": [
        "**Decision Boundaries**"
      ]
    },
    {
      "cell_type": "markdown",
      "metadata": {
        "id": "C45apxMwewhT"
      },
      "source": [
        "Let's plot the model's decision boundaries. This gives us a _Voronoi diagram_:"
      ]
    },
    {
      "cell_type": "code",
      "metadata": {
        "id": "C5DAmkAdewhU"
      },
      "source": [
        "def plot_data(X):\n",
        "    plt.plot(X[:, 0], X[:, 1], 'k.', markersize=2)\n",
        "\n",
        "def plot_centroids(centroids, weights=None, circle_color='w', cross_color='k'):\n",
        "    if weights is not None:\n",
        "        centroids = centroids[weights > weights.max() / 10]\n",
        "    plt.scatter(centroids[:, 0], centroids[:, 1],\n",
        "                marker='o', s=35, linewidths=8,\n",
        "                color=circle_color, zorder=10, alpha=0.9)\n",
        "    plt.scatter(centroids[:, 0], centroids[:, 1],\n",
        "                marker='x', s=2, linewidths=12,\n",
        "                color=cross_color, zorder=11, alpha=1)\n",
        "\n",
        "def plot_decision_boundaries(clusterer, X, resolution=1000, show_centroids=True,\n",
        "                             show_xlabels=True, show_ylabels=True):\n",
        "    mins = X.min(axis=0) - 0.1\n",
        "    maxs = X.max(axis=0) + 0.1\n",
        "    xx, yy = np.meshgrid(np.linspace(mins[0], maxs[0], resolution),\n",
        "                         np.linspace(mins[1], maxs[1], resolution))\n",
        "    Z = clusterer.predict(np.c_[xx.ravel(), yy.ravel()])\n",
        "    Z = Z.reshape(xx.shape)\n",
        "\n",
        "    plt.contourf(Z, extent=(mins[0], maxs[0], mins[1], maxs[1]),\n",
        "                cmap=\"Pastel2\")\n",
        "    plt.contour(Z, extent=(mins[0], maxs[0], mins[1], maxs[1]),\n",
        "                linewidths=1, colors='k')\n",
        "    plot_data(X)\n",
        "    if show_centroids:\n",
        "        plot_centroids(clusterer.cluster_centers_)\n",
        "\n",
        "    if show_xlabels:\n",
        "        plt.xlabel(\"$x_1$\", fontsize=14)\n",
        "    else:\n",
        "        plt.tick_params(labelbottom=False)\n",
        "    if show_ylabels:\n",
        "        plt.ylabel(\"$x_2$\", fontsize=14, rotation=0)\n",
        "    else:\n",
        "        plt.tick_params(labelleft=False)"
      ],
      "execution_count": 54,
      "outputs": []
    },
    {
      "cell_type": "code",
      "metadata": {
        "id": "g8Q4Zv6kewhU",
        "outputId": "7bb1a256-04c7-40aa-ce66-39874557f594",
        "colab": {
          "base_uri": "https://localhost:8080/",
          "height": 314
        }
      },
      "source": [
        "plt.figure(figsize=(8, 4))\n",
        "plot_decision_boundaries(kmeans, X)\n",
        "save_fig(\"voronoi_plot\")\n",
        "plt.show()"
      ],
      "execution_count": 55,
      "outputs": [
        {
          "output_type": "stream",
          "name": "stdout",
          "text": [
            "Saving figure voronoi_plot\n"
          ]
        },
        {
          "output_type": "display_data",
          "data": {
            "image/png": "[encoded data removed]",
            "text/plain": [
              "<Figure size 576x288 with 1 Axes>"
            ]
          },
          "metadata": {
            "needs_background": "light"
          }
        }
      ]
    },
    {
      "cell_type": "markdown",
      "metadata": {
        "id": "DwitrW6eewhU"
      },
      "source": [
        "Not bad! Some of the instances near the edges were probably assigned to the wrong cluster, but overall it looks pretty good."
      ]
    },
    {
      "cell_type": "markdown",
      "metadata": {
        "id": "ln--3ewGewhU"
      },
      "source": [
        "**Hard Clustering _vs_ Soft Clustering**"
      ]
    },
    {
      "cell_type": "markdown",
      "metadata": {
        "id": "7DPvpnGMewhU"
      },
      "source": [
        "Rather than arbitrarily choosing the closest cluster for each instance, which is called _hard clustering_, it might be better measure the distance of each instance to all 5 centroids. This is what the `transform()` method does:"
      ]
    },
    {
      "cell_type": "code",
      "metadata": {
        "id": "nmghlg5AewhU",
        "outputId": "b6f3e330-2bbe-4df4-dcd2-2e791f994c51",
        "colab": {
          "base_uri": "https://localhost:8080/"
        }
      },
      "source": [
        "kmeans.transform(X_new)"
      ],
      "execution_count": 56,
      "outputs": [
        {
          "output_type": "execute_result",
          "data": {
            "text/plain": [
              "array([[2.90108303, 0.31851994, 2.90148624, 1.5212485 , 2.82828783],\n",
              "       [5.84548589, 2.78962268, 5.85526226, 4.50204331, 5.8253103 ],\n",
              "       [0.29739925, 3.31059968, 1.72966805, 1.66431619, 1.19404082],\n",
              "       [0.35447601, 3.23117513, 1.23387606, 1.52150393, 0.70353307]])"
            ]
          },
          "metadata": {},
          "execution_count": 56
        }
      ]
    },
    {
      "cell_type": "markdown",
      "metadata": {
        "id": "dWOyNqBOewhU"
      },
      "source": [
        "You can verify that this is indeed the Euclidian distance between each instance and each centroid:"
      ]
    },
    {
      "cell_type": "code",
      "metadata": {
        "id": "rKFqlPyJewhV",
        "outputId": "952e29b9-ac79-45ee-d673-f8ae33ae4e51",
        "colab": {
          "base_uri": "https://localhost:8080/"
        }
      },
      "source": [
        "np.linalg.norm(np.tile(X_new, (1, k)).reshape(-1, k, 2) - kmeans.cluster_centers_, axis=2)"
      ],
      "execution_count": 57,
      "outputs": [
        {
          "output_type": "execute_result",
          "data": {
            "text/plain": [
              "array([[2.90108303, 0.31851994, 2.90148624, 1.5212485 , 2.82828783],\n",
              "       [5.84548589, 2.78962268, 5.85526226, 4.50204331, 5.8253103 ],\n",
              "       [0.29739925, 3.31059968, 1.72966805, 1.66431619, 1.19404082],\n",
              "       [0.35447601, 3.23117513, 1.23387606, 1.52150393, 0.70353307]])"
            ]
          },
          "metadata": {},
          "execution_count": 57
        }
      ]
    },
    {
      "cell_type": "markdown",
      "metadata": {
        "id": "u8P7KF25ewhV"
      },
      "source": [
        "### The K-Means Algorithm"
      ]
    },
    {
      "cell_type": "markdown",
      "metadata": {
        "id": "TiG3uCS0ewhV"
      },
      "source": [
        "The K-Means algorithm is one of the fastest clustering algorithms, and also one of the simplest:\n",
        "* First initialize $k$ centroids randomly: $k$ distinct instances are chosen randomly from the dataset and the centroids are placed at their locations.\n",
        "* Repeat until convergence (i.e., until the centroids stop moving):\n",
        "    * Assign each instance to the closest centroid.\n",
        "    * Update the centroids to be the mean of the instances that are assigned to them."
      ]
    },
    {
      "cell_type": "markdown",
      "metadata": {
        "id": "IW6oNqqBewhV"
      },
      "source": [
        "The `KMeans` class applies an optimized algorithm by default. To get the original K-Means algorithm (for educational purposes only), you must set `init=\"random\"`, `n_init=1`and `algorithm=\"full\"`. These hyperparameters will be explained below."
      ]
    },
    {
      "cell_type": "markdown",
      "metadata": {
        "id": "P3eIx_1oewhV"
      },
      "source": [
        "Let's run the K-Means algorithm for 1, 2 and 3 iterations, to see how the centroids move around:"
      ]
    },
    {
      "cell_type": "code",
      "metadata": {
        "id": "3flxSWlXewhV",
        "outputId": "d3233c98-6236-4dc3-937c-b9d3cef6f97a",
        "colab": {
          "base_uri": "https://localhost:8080/"
        }
      },
      "source": [
        "kmeans_iter1 = KMeans(n_clusters=5, init=\"random\", n_init=1,\n",
        "                     algorithm=\"full\", max_iter=1, random_state=0)\n",
        "kmeans_iter2 = KMeans(n_clusters=5, init=\"random\", n_init=1,\n",
        "                     algorithm=\"full\", max_iter=2, random_state=0)\n",
        "kmeans_iter3 = KMeans(n_clusters=5, init=\"random\", n_init=1,\n",
        "                     algorithm=\"full\", max_iter=3, random_state=0)\n",
        "kmeans_iter1.fit(X)\n",
        "kmeans_iter2.fit(X)\n",
        "kmeans_iter3.fit(X)"
      ],
      "execution_count": 58,
      "outputs": [
        {
          "output_type": "execute_result",
          "data": {
            "text/plain": [
              "KMeans(algorithm='full', init='random', max_iter=3, n_clusters=5, n_init=1,\n",
              "       random_state=0)"
            ]
          },
          "metadata": {},
          "execution_count": 58
        }
      ]
    },
    {
      "cell_type": "markdown",
      "metadata": {
        "id": "3ySyPkKyewhV"
      },
      "source": [
        "And let's plot this:"
      ]
    },
    {
      "cell_type": "code",
      "metadata": {
        "id": "FQyyEPUiewhW",
        "outputId": "98f4ce11-3106-40e7-a630-4920e6ddc204",
        "colab": {
          "base_uri": "https://localhost:8080/",
          "height": 602
        }
      },
      "source": [
        "plt.figure(figsize=(10, 8))\n",
        "\n",
        "plt.subplot(321)\n",
        "plot_data(X)\n",
        "plot_centroids(kmeans_iter1.cluster_centers_, circle_color='r', cross_color='w')\n",
        "plt.ylabel(\"$x_2$\", fontsize=14, rotation=0)\n",
        "plt.tick_params(labelbottom=False)\n",
        "plt.title(\"Update the centroids (initially randomly)\", fontsize=14)\n",
        "\n",
        "plt.subplot(322)\n",
        "plot_decision_boundaries(kmeans_iter1, X, show_xlabels=False, show_ylabels=False)\n",
        "plt.title(\"Label the instances\", fontsize=14)\n",
        "\n",
        "plt.subplot(323)\n",
        "plot_decision_boundaries(kmeans_iter1, X, show_centroids=False, show_xlabels=False)\n",
        "plot_centroids(kmeans_iter2.cluster_centers_)\n",
        "\n",
        "plt.subplot(324)\n",
        "plot_decision_boundaries(kmeans_iter2, X, show_xlabels=False, show_ylabels=False)\n",
        "\n",
        "plt.subplot(325)\n",
        "plot_decision_boundaries(kmeans_iter2, X, show_centroids=False)\n",
        "plot_centroids(kmeans_iter3.cluster_centers_)\n",
        "\n",
        "plt.subplot(326)\n",
        "plot_decision_boundaries(kmeans_iter3, X, show_ylabels=False)\n",
        "\n",
        "save_fig(\"kmeans_algorithm_plot\")\n",
        "plt.show()"
      ],
      "execution_count": 59,
      "outputs": [
        {
          "output_type": "stream",
          "name": "stdout",
          "text": [
            "Saving figure kmeans_algorithm_plot\n"
          ]
        },
        {
          "output_type": "display_data",
          "data": {
            "image/png": "[encoded data removed]",
            "text/plain": [
              "<Figure size 720x576 with 6 Axes>"
            ]
          },
          "metadata": {
            "needs_background": "light"
          }
        }
      ]
    },
    {
      "cell_type": "markdown",
      "metadata": {
        "id": "GGTyU91qewhW"
      },
      "source": [
        "**K-Means Variability**"
      ]
    },
    {
      "cell_type": "markdown",
      "metadata": {
        "id": "dDucJvYaewhW"
      },
      "source": [
        "In the original K-Means algorithm, the centroids are just initialized randomly, and the algorithm simply runs a single iteration to gradually improve the centroids, as we saw above.\n",
        "\n",
        "However, one major problem with this approach is that if you run K-Means multiple times (or with different random seeds), it can converge to very different solutions, as you can see below:"
      ]
    },
    {
      "cell_type": "code",
      "metadata": {
        "id": "QSlqKm5sewhW"
      },
      "source": [
        "def plot_clusterer_comparison(clusterer1, clusterer2, X, title1=None, title2=None):\n",
        "    clusterer1.fit(X)\n",
        "    clusterer2.fit(X)\n",
        "\n",
        "    plt.figure(figsize=(10, 3.2))\n",
        "\n",
        "    plt.subplot(121)\n",
        "    plot_decision_boundaries(clusterer1, X)\n",
        "    if title1:\n",
        "        plt.title(title1, fontsize=14)\n",
        "\n",
        "    plt.subplot(122)\n",
        "    plot_decision_boundaries(clusterer2, X, show_ylabels=False)\n",
        "    if title2:\n",
        "        plt.title(title2, fontsize=14)"
      ],
      "execution_count": 60,
      "outputs": []
    },
    {
      "cell_type": "code",
      "metadata": {
        "id": "imGA0dVSewhX",
        "outputId": "f603b656-a727-4f14-decb-d5eed8bcb486",
        "colab": {
          "base_uri": "https://localhost:8080/",
          "height": 257
        }
      },
      "source": [
        "kmeans_rnd_init1 = KMeans(n_clusters=5, init=\"random\", n_init=1,\n",
        "                         algorithm=\"full\", random_state=2)\n",
        "kmeans_rnd_init2 = KMeans(n_clusters=5, init=\"random\", n_init=1,\n",
        "                         algorithm=\"full\", random_state=5)\n",
        "\n",
        "plot_clusterer_comparison(kmeans_rnd_init1, kmeans_rnd_init2, X,\n",
        "                          \"Solution 1\", \"Solution 2 (with a different random init)\")\n",
        "\n",
        "save_fig(\"kmeans_variability_plot\")\n",
        "plt.show()"
      ],
      "execution_count": 61,
      "outputs": [
        {
          "output_type": "stream",
          "name": "stdout",
          "text": [
            "Saving figure kmeans_variability_plot\n"
          ]
        },
        {
          "output_type": "display_data",
          "data": {
            "image/png": "[encoded data removed]",
            "text/plain": [
              "<Figure size 720x230.4 with 2 Axes>"
            ]
          },
          "metadata": {
            "needs_background": "light"
          }
        }
      ]
    },
    {
      "cell_type": "markdown",
      "metadata": {
        "id": "zMwbtDIMewhX"
      },
      "source": [
        "### Inertia"
      ]
    },
    {
      "cell_type": "markdown",
      "metadata": {
        "id": "63USEi4YewhX"
      },
      "source": [
        "To select the best model, we will need a way to evaluate a K-Mean model's performance. Unfortunately, clustering is an unsupervised task, so we do not have the targets. But at least we can measure the distance between each instance and its centroid. This is the idea behind the _inertia_ metric:"
      ]
    },
    {
      "cell_type": "code",
      "metadata": {
        "id": "3SPA0AjyewhX",
        "outputId": "1420756e-23d1-4d36-e391-570fc3008944",
        "colab": {
          "base_uri": "https://localhost:8080/"
        }
      },
      "source": [
        "kmeans.inertia_"
      ],
      "execution_count": 62,
      "outputs": [
        {
          "output_type": "execute_result",
          "data": {
            "text/plain": [
              "22.230049274963328"
            ]
          },
          "metadata": {},
          "execution_count": 62
        }
      ]
    },
    {
      "cell_type": "markdown",
      "metadata": {
        "id": "p5sCAwpgewhX"
      },
      "source": [
        "As you can easily verify, inertia is the sum of the squared distances between each training instance and its closest centroid:"
      ]
    },
    {
      "cell_type": "code",
      "metadata": {
        "id": "5byUDu_oewhX",
        "outputId": "127549a4-1881-488e-a3d2-9d6f73654f61",
        "colab": {
          "base_uri": "https://localhost:8080/"
        }
      },
      "source": [
        "X_dist = kmeans.transform(X)\n",
        "np.sum(X_dist[np.arange(len(X_dist)), kmeans.labels_]**2)"
      ],
      "execution_count": 63,
      "outputs": [
        {
          "output_type": "execute_result",
          "data": {
            "text/plain": [
              "22.230049274963356"
            ]
          },
          "metadata": {},
          "execution_count": 63
        }
      ]
    },
    {
      "cell_type": "markdown",
      "metadata": {
        "id": "V2b7KVMkewhX"
      },
      "source": [
        "The `score()` method returns the negative inertia. Why negative? Well, it is because a predictor's `score()` method must always respect the \"_greater is better_\" rule."
      ]
    },
    {
      "cell_type": "code",
      "metadata": {
        "id": "2Ip6YTiEewhY",
        "outputId": "cd03ba63-86b5-4f61-afaa-f81b954ca0f9",
        "colab": {
          "base_uri": "https://localhost:8080/"
        }
      },
      "source": [
        "kmeans.score(X)"
      ],
      "execution_count": 64,
      "outputs": [
        {
          "output_type": "execute_result",
          "data": {
            "text/plain": [
              "-22.230049274963328"
            ]
          },
          "metadata": {},
          "execution_count": 64
        }
      ]
    },
    {
      "cell_type": "markdown",
      "metadata": {
        "id": "hOwltiv9ewhY"
      },
      "source": [
        "### Multiple Initializations"
      ]
    },
    {
      "cell_type": "markdown",
      "metadata": {
        "id": "W0WReX1_ewhY"
      },
      "source": [
        "So one approach to solve the variability issue is to simply run the K-Means algorithm multiple times with different random initializations, and select the solution that minimizes the inertia. For example, here are the inertias of the two \"bad\" models shown in the previous figure:"
      ]
    },
    {
      "cell_type": "code",
      "metadata": {
        "id": "v-GUkc8IewhY",
        "outputId": "fc4ee0cc-e850-4e59-9165-2d3807979e41",
        "colab": {
          "base_uri": "https://localhost:8080/"
        }
      },
      "source": [
        "kmeans_rnd_init1.inertia_"
      ],
      "execution_count": 65,
      "outputs": [
        {
          "output_type": "execute_result",
          "data": {
            "text/plain": [
              "22.230049274963328"
            ]
          },
          "metadata": {},
          "execution_count": 65
        }
      ]
    },
    {
      "cell_type": "code",
      "metadata": {
        "id": "Ba0ij5uaewhZ",
        "outputId": "15b33092-f77e-4cf7-b15b-49c6ea7f8ab1",
        "colab": {
          "base_uri": "https://localhost:8080/"
        }
      },
      "source": [
        "kmeans_rnd_init2.inertia_"
      ],
      "execution_count": 66,
      "outputs": [
        {
          "output_type": "execute_result",
          "data": {
            "text/plain": [
              "22.230049274963328"
            ]
          },
          "metadata": {},
          "execution_count": 66
        }
      ]
    },
    {
      "cell_type": "markdown",
      "metadata": {
        "id": "E8rDws38ewhZ"
      },
      "source": [
        "As you can see, they have a higher inertia than the first \"good\" model we trained, which means they are probably worse."
      ]
    },
    {
      "cell_type": "markdown",
      "metadata": {
        "id": "sFyv_BcUewhZ"
      },
      "source": [
        "When you set the `n_init` hyperparameter, Scikit-Learn runs the original algorithm `n_init` times, and selects the solution that minimizes the inertia. By default, Scikit-Learn sets `n_init=10`."
      ]
    },
    {
      "cell_type": "code",
      "metadata": {
        "id": "zv1eyW9xewhZ",
        "outputId": "05379eae-1a91-4941-d01f-3f196d6eb694",
        "colab": {
          "base_uri": "https://localhost:8080/"
        }
      },
      "source": [
        "kmeans_rnd_10_inits = KMeans(n_clusters=5, init=\"random\", n_init=10,\n",
        "                              algorithm=\"full\", random_state=2)\n",
        "kmeans_rnd_10_inits.fit(X)"
      ],
      "execution_count": 67,
      "outputs": [
        {
          "output_type": "execute_result",
          "data": {
            "text/plain": [
              "KMeans(algorithm='full', init='random', n_clusters=5, random_state=2)"
            ]
          },
          "metadata": {},
          "execution_count": 67
        }
      ]
    },
    {
      "cell_type": "markdown",
      "metadata": {
        "id": "KQYG0MezewhZ"
      },
      "source": [
        "As you can see, we end up with the initial model, which is certainly the optimal K-Means solution (at least in terms of inertia, and assuming $k=5$)."
      ]
    },
    {
      "cell_type": "code",
      "metadata": {
        "id": "MzHGGZASewhZ",
        "outputId": "648e4032-68f3-4db4-a658-a6ef5602d9d5",
        "colab": {
          "base_uri": "https://localhost:8080/",
          "height": 287
        }
      },
      "source": [
        "plt.figure(figsize=(8, 4))\n",
        "plot_decision_boundaries(kmeans_rnd_10_inits, X)\n",
        "plt.show()"
      ],
      "execution_count": 68,
      "outputs": [
        {
          "output_type": "display_data",
          "data": {
            "image/png": "[encoded data removed]",
            "text/plain": [
              "<Figure size 576x288 with 1 Axes>"
            ]
          },
          "metadata": {
            "needs_background": "light"
          }
        }
      ]
    },
    {
      "cell_type": "markdown",
      "metadata": {
        "id": "eztLO9ZzewhZ"
      },
      "source": [
        "### Centroid initialization methods"
      ]
    },
    {
      "cell_type": "markdown",
      "metadata": {
        "id": "9hfmVeDDewhZ"
      },
      "source": [
        "Instead of initializing the centroids entirely randomly, it is preferable to initialize them using the following algorithm, proposed in a [2006 paper](https://goo.gl/eNUPw6) by David Arthur and Sergei Vassilvitskii:\n",
        "* Take one centroid $c_1$, chosen uniformly at random from the dataset.\n",
        "* Take a new center $c_i$, choosing an instance $\\mathbf{x}_i$ with probability: $D(\\mathbf{x}_i)^2$ / $\\sum\\limits_{j=1}^{m}{D(\\mathbf{x}_j)}^2$ where $D(\\mathbf{x}_i)$ is the distance between the instance $\\mathbf{x}_i$ and the closest centroid that was already chosen. This probability distribution ensures that instances that are further away from already chosen centroids are much more likely be selected as centroids.\n",
        "* Repeat the previous step until all $k$ centroids have been chosen."
      ]
    },
    {
      "cell_type": "markdown",
      "metadata": {
        "id": "4mOGy-Cpewha"
      },
      "source": [
        "The rest of the K-Means++ algorithm is just regular K-Means. With this initialization, the K-Means algorithm is much less likely to converge to a suboptimal solution, so it is possible to reduce `n_init` considerably. Most of the time, this largely compensates for the additional complexity of the initialization process."
      ]
    },
    {
      "cell_type": "markdown",
      "metadata": {
        "id": "aIp_meECewha"
      },
      "source": [
        "To set the initialization to K-Means++, simply set `init=\"k-means++\"` (this is actually the default):"
      ]
    },
    {
      "cell_type": "code",
      "metadata": {
        "id": "cmvcB2Gmewha",
        "outputId": "a46f347c-cec9-44d4-9115-71811839a507",
        "colab": {
          "base_uri": "https://localhost:8080/"
        }
      },
      "source": [
        "KMeans()"
      ],
      "execution_count": 69,
      "outputs": [
        {
          "output_type": "execute_result",
          "data": {
            "text/plain": [
              "KMeans()"
            ]
          },
          "metadata": {},
          "execution_count": 69
        }
      ]
    },
    {
      "cell_type": "code",
      "metadata": {
        "id": "QB4rhTMBewha",
        "outputId": "81fcea67-7bc4-42dd-eecd-bff34403dc37",
        "colab": {
          "base_uri": "https://localhost:8080/"
        }
      },
      "source": [
        "good_init = np.array([[-3, 3], [-3, 2], [-3, 1], [-1, 2], [0, 2]])\n",
        "kmeans = KMeans(n_clusters=5, init=good_init, n_init=1, random_state=42)\n",
        "kmeans.fit(X)\n",
        "kmeans.inertia_"
      ],
      "execution_count": 70,
      "outputs": [
        {
          "output_type": "execute_result",
          "data": {
            "text/plain": [
              "22.256003429258882"
            ]
          },
          "metadata": {},
          "execution_count": 70
        }
      ]
    },
    {
      "cell_type": "markdown",
      "metadata": {
        "id": "A1393Rwoewhd"
      },
      "source": [
        "### Finding the optimal number of clusters"
      ]
    },
    {
      "cell_type": "markdown",
      "metadata": {
        "id": "_XJV08a9ewhe"
      },
      "source": [
        "What if the number of clusters was set to a lower or greater value than 5?"
      ]
    },
    {
      "cell_type": "code",
      "metadata": {
        "id": "WcRQYuf3ewhe",
        "outputId": "f9600ee4-4081-4956-f789-bc8902ad4c80",
        "colab": {
          "base_uri": "https://localhost:8080/",
          "height": 257
        }
      },
      "source": [
        "kmeans_k3 = KMeans(n_clusters=3, random_state=42)\n",
        "kmeans_k8 = KMeans(n_clusters=8, random_state=42)\n",
        "\n",
        "plot_clusterer_comparison(kmeans_k3, kmeans_k8, X, \"$k=3$\", \"$k=8$\")\n",
        "save_fig(\"bad_n_clusters_plot\")\n",
        "plt.show()"
      ],
      "execution_count": 71,
      "outputs": [
        {
          "output_type": "stream",
          "name": "stdout",
          "text": [
            "Saving figure bad_n_clusters_plot\n"
          ]
        },
        {
          "output_type": "display_data",
          "data": {
            "image/png": "[encoded data removed]",
            "text/plain": [
              "<Figure size 720x230.4 with 2 Axes>"
            ]
          },
          "metadata": {
            "needs_background": "light"
          }
        }
      ]
    },
    {
      "cell_type": "markdown",
      "metadata": {
        "id": "IIOdph-5ewhe"
      },
      "source": [
        "Ouch, these two models don't look great. What about their inertias?"
      ]
    },
    {
      "cell_type": "code",
      "metadata": {
        "id": "WtL4z42Tewhe",
        "outputId": "f31237c6-2fcf-4bb8-8041-a82512772cdb",
        "colab": {
          "base_uri": "https://localhost:8080/"
        }
      },
      "source": [
        "kmeans_k3.inertia_"
      ],
      "execution_count": 72,
      "outputs": [
        {
          "output_type": "execute_result",
          "data": {
            "text/plain": [
              "65.89233663388976"
            ]
          },
          "metadata": {},
          "execution_count": 72
        }
      ]
    },
    {
      "cell_type": "code",
      "metadata": {
        "id": "hpCF0ynGewhe",
        "outputId": "7d401ce4-7187-490a-fe45-2ff21a57782c",
        "colab": {
          "base_uri": "https://localhost:8080/"
        }
      },
      "source": [
        "kmeans_k8.inertia_"
      ],
      "execution_count": 73,
      "outputs": [
        {
          "output_type": "execute_result",
          "data": {
            "text/plain": [
              "10.006507898143884"
            ]
          },
          "metadata": {},
          "execution_count": 73
        }
      ]
    },
    {
      "cell_type": "markdown",
      "metadata": {
        "id": "iqqvwlB7ewhe"
      },
      "source": [
        "No, we cannot simply take the value of $k$ that minimizes the inertia, since it keeps getting lower as we increase $k$. Indeed, the more clusters there are, the closer each instance will be to its closest centroid, and therefore the lower the inertia will be. However, we can plot the inertia as a function of $k$ and analyze the resulting curve:"
      ]
    },
    {
      "cell_type": "code",
      "metadata": {
        "id": "1f3NUZlFewhe"
      },
      "source": [
        "kmeans_per_k = [KMeans(n_clusters=k, random_state=42).fit(X)\n",
        "                for k in range(1, 10)]\n",
        "inertias = [model.inertia_ for model in kmeans_per_k]"
      ],
      "execution_count": 74,
      "outputs": []
    },
    {
      "cell_type": "code",
      "metadata": {
        "id": "dB4sVnSMewhe",
        "outputId": "a9025725-7990-4c77-abaa-75ad50049e44",
        "colab": {
          "base_uri": "https://localhost:8080/",
          "height": 278
        }
      },
      "source": [
        "plt.figure(figsize=(8, 3.5))\n",
        "plt.plot(range(1, 10), inertias, \"bo-\")\n",
        "plt.xlabel(\"$k$\", fontsize=14)\n",
        "plt.ylabel(\"Inertia\", fontsize=14)\n",
        "plt.annotate('Elbow',\n",
        "             xy=(4, inertias[3]),\n",
        "             xytext=(0.55, 0.55),\n",
        "             textcoords='figure fraction',\n",
        "             fontsize=16,\n",
        "             arrowprops=dict(facecolor='black', shrink=0.1)\n",
        "            )\n",
        "plt.axis([1, 8.5, 0, 1300])\n",
        "save_fig(\"inertia_vs_k_plot\")\n",
        "plt.show()"
      ],
      "execution_count": 75,
      "outputs": [
        {
          "output_type": "stream",
          "name": "stdout",
          "text": [
            "Saving figure inertia_vs_k_plot\n"
          ]
        },
        {
          "output_type": "display_data",
          "data": {
            "image/png": "[encoded data removed]",
            "text/plain": [
              "<Figure size 576x252 with 1 Axes>"
            ]
          },
          "metadata": {
            "needs_background": "light"
          }
        }
      ]
    },
    {
      "cell_type": "markdown",
      "metadata": {
        "id": "NISJZMQgewhe"
      },
      "source": [
        "As you can see, there is an elbow at $k=4$, which means that less clusters than that would be bad, and more clusters would not help much and might cut clusters in half. So $k=4$ is a pretty good choice. Of course in this example it is not perfect since it means that the two blobs in the lower left will be considered as just a single cluster, but it's a pretty good clustering nonetheless."
      ]
    },
    {
      "cell_type": "code",
      "metadata": {
        "id": "6f4ngI3lewhf",
        "outputId": "40842524-64f7-400d-aca8-e443a6dfcdac",
        "colab": {
          "base_uri": "https://localhost:8080/",
          "height": 287
        }
      },
      "source": [
        "plot_decision_boundaries(kmeans_per_k[4-1], X)\n",
        "plt.show()"
      ],
      "execution_count": 76,
      "outputs": [
        {
          "output_type": "display_data",
          "data": {
            "image/png": "[encoded data removed]",
            "text/plain": [
              "<Figure size 432x288 with 1 Axes>"
            ]
          },
          "metadata": {
            "needs_background": "light"
          }
        }
      ]
    },
    {
      "cell_type": "markdown",
      "metadata": {
        "id": "L09aWd3Jewhf"
      },
      "source": [
        "Another approach is to look at the _silhouette score_, which is the mean _silhouette coefficient_ over all the instances. An instance's silhouette coefficient is equal to $(b - a)/\\max(a, b)$ where $a$ is the mean distance to the other instances in the same cluster (it is the _mean intra-cluster distance_), and $b$ is the _mean nearest-cluster distance_, that is the mean distance to the instances of the next closest cluster (defined as the one that minimizes $b$, excluding the instance's own cluster). The silhouette coefficient can vary between -1 and +1: a coefficient close to +1 means that the instance is well inside its own cluster and far from other clusters, while a coefficient close to 0 means that it is close to a cluster boundary, and finally a coefficient close to -1 means that the instance may have been assigned to the wrong cluster."
      ]
    },
    {
      "cell_type": "markdown",
      "metadata": {
        "id": "-KrYYz3Aewhf"
      },
      "source": [
        "Let's plot the silhouette score as a function of $k$:"
      ]
    },
    {
      "cell_type": "code",
      "metadata": {
        "id": "iRirNKfgewhf"
      },
      "source": [
        "from sklearn.metrics import silhouette_score"
      ],
      "execution_count": 77,
      "outputs": []
    },
    {
      "cell_type": "code",
      "metadata": {
        "id": "vfwtRNNoewhf",
        "outputId": "c9c6739d-75c1-4c64-b1fb-6a75327b51c4",
        "colab": {
          "base_uri": "https://localhost:8080/"
        }
      },
      "source": [
        "silhouette_score(X, kmeans.labels_)"
      ],
      "execution_count": 78,
      "outputs": [
        {
          "output_type": "execute_result",
          "data": {
            "text/plain": [
              "0.6633752159534759"
            ]
          },
          "metadata": {},
          "execution_count": 78
        }
      ]
    },
    {
      "cell_type": "code",
      "metadata": {
        "id": "dR60YO1gewhf"
      },
      "source": [
        "silhouette_scores = [silhouette_score(X, model.labels_)\n",
        "                     for model in kmeans_per_k[1:]]"
      ],
      "execution_count": 79,
      "outputs": []
    },
    {
      "cell_type": "code",
      "metadata": {
        "id": "So5-3qPKewhf",
        "outputId": "3b97c2b9-2b3c-4b11-de14-9c147aff4f5f",
        "colab": {
          "base_uri": "https://localhost:8080/",
          "height": 242
        }
      },
      "source": [
        "plt.figure(figsize=(8, 3))\n",
        "plt.plot(range(2, 10), silhouette_scores, \"bo-\")\n",
        "plt.xlabel(\"$k$\", fontsize=14)\n",
        "plt.ylabel(\"Silhouette score\", fontsize=14)\n",
        "plt.axis([1.8, 8.5, 0.55, 0.7])\n",
        "save_fig(\"silhouette_score_vs_k_plot\")\n",
        "plt.show()"
      ],
      "execution_count": 80,
      "outputs": [
        {
          "output_type": "stream",
          "name": "stdout",
          "text": [
            "Saving figure silhouette_score_vs_k_plot\n"
          ]
        },
        {
          "output_type": "display_data",
          "data": {
            "image/png": "[encoded data removed]",
            "text/plain": [
              "<Figure size 576x216 with 1 Axes>"
            ]
          },
          "metadata": {
            "needs_background": "light"
          }
        }
      ]
    },
    {
      "cell_type": "markdown",
      "metadata": {
        "id": "MA7FIsf5ewhf"
      },
      "source": [
        "As you can see, this visualization is much richer than the previous one: in particular, although it confirms that $k=4$ is a very good choice, but it also underlines the fact that $k=5$ is quite good as well."
      ]
    },
    {
      "cell_type": "markdown",
      "metadata": {
        "id": "cEDI4KKQewhf"
      },
      "source": [
        "An even more informative visualization is given when you plot every instance's silhouette coefficient, sorted by the cluster they are assigned to and by the value of the coefficient. This is called a _silhouette diagram_:"
      ]
    },
    {
      "cell_type": "code",
      "metadata": {
        "id": "SMLp8USuewhg",
        "outputId": "71367212-30e5-4a5c-c765-206eaf44ecee",
        "colab": {
          "base_uri": "https://localhost:8080/",
          "height": 674
        }
      },
      "source": [
        "from sklearn.metrics import silhouette_samples\n",
        "from matplotlib.ticker import FixedLocator, FixedFormatter\n",
        "\n",
        "plt.figure(figsize=(11, 9))\n",
        "\n",
        "for k in (3, 4, 5, 6):\n",
        "    plt.subplot(2, 2, k - 2)\n",
        "    \n",
        "    y_pred = kmeans_per_k[k - 1].labels_\n",
        "    silhouette_coefficients = silhouette_samples(X, y_pred)\n",
        "\n",
        "    padding = len(X) // 30\n",
        "    pos = padding\n",
        "    ticks = []\n",
        "    for i in range(k):\n",
        "        coeffs = silhouette_coefficients[y_pred == i]\n",
        "        coeffs.sort()\n",
        "\n",
        "        color = mpl.cm.Spectral(i / k)\n",
        "        plt.fill_betweenx(np.arange(pos, pos + len(coeffs)), 0, coeffs,\n",
        "                          facecolor=color, edgecolor=color, alpha=0.7)\n",
        "        ticks.append(pos + len(coeffs) // 2)\n",
        "        pos += len(coeffs) + padding\n",
        "\n",
        "    plt.gca().yaxis.set_major_locator(FixedLocator(ticks))\n",
        "    plt.gca().yaxis.set_major_formatter(FixedFormatter(range(k)))\n",
        "    if k in (3, 5):\n",
        "        plt.ylabel(\"Cluster\")\n",
        "    \n",
        "    if k in (5, 6):\n",
        "        plt.gca().set_xticks([-0.1, 0, 0.2, 0.4, 0.6, 0.8, 1])\n",
        "        plt.xlabel(\"Silhouette Coefficient\")\n",
        "    else:\n",
        "        plt.tick_params(labelbottom=False)\n",
        "\n",
        "    plt.axvline(x=silhouette_scores[k - 2], color=\"red\", linestyle=\"--\")\n",
        "    plt.title(\"$k={}$\".format(k), fontsize=16)\n",
        "\n",
        "save_fig(\"silhouette_analysis_plot\")\n",
        "plt.show()"
      ],
      "execution_count": 81,
      "outputs": [
        {
          "output_type": "stream",
          "name": "stdout",
          "text": [
            "Saving figure silhouette_analysis_plot\n"
          ]
        },
        {
          "output_type": "display_data",
          "data": {
            "image/png": "[encoded data removed]",
            "text/plain": [
              "<Figure size 792x648 with 4 Axes>"
            ]
          },
          "metadata": {
            "needs_background": "light"
          }
        }
      ]
    },
    {
      "cell_type": "markdown",
      "metadata": {
        "id": "cAbKHAkzewhg"
      },
      "source": [
        "As you can see, $k=5$ looks like the best option here, as all clusters are roughly the same size, and they all cross the dashed line, which represents the mean silhouette score."
      ]
    },
    {
      "cell_type": "markdown",
      "metadata": {
        "id": "OEz33i4Fewhl"
      },
      "source": [
        "## Using Clustering for Semi-Supervised Learning"
      ]
    },
    {
      "cell_type": "code",
      "metadata": {
        "id": "8fD6YJD-qzPf"
      },
      "source": [
        "from sklearn.datasets import load_digits\n",
        "X_digits, y_digits = load_digits(return_X_y=True)\n",
        "from sklearn.model_selection import train_test_split\n",
        "X_train, X_test, y_train, y_test = train_test_split(X_digits, y_digits, random_state=42)\n",
        "from sklearn.linear_model import LogisticRegression"
      ],
      "execution_count": 85,
      "outputs": []
    },
    {
      "cell_type": "markdown",
      "metadata": {
        "id": "tSjCuV40ewhm"
      },
      "source": [
        "Another use case for clustering is in semi-supervised learning, when we have plenty of unlabeled instances and very few labeled instances."
      ]
    },
    {
      "cell_type": "markdown",
      "metadata": {
        "id": "uid7QUwuewhm"
      },
      "source": [
        "Let's look at the performance of a logistic regression model when we only have 50 labeled instances:"
      ]
    },
    {
      "cell_type": "code",
      "metadata": {
        "id": "WfAHXl3dewhm"
      },
      "source": [
        "n_labeled = 50"
      ],
      "execution_count": 86,
      "outputs": []
    },
    {
      "cell_type": "code",
      "metadata": {
        "id": "lNx0d_qlewhm",
        "outputId": "67ede573-7865-45b2-e180-848aff72c3b0",
        "colab": {
          "base_uri": "https://localhost:8080/"
        }
      },
      "source": [
        "log_reg = LogisticRegression(multi_class=\"ovr\", solver=\"lbfgs\", random_state=42)\n",
        "log_reg.fit(X_train[:n_labeled], y_train[:n_labeled])\n",
        "log_reg.score(X_test, y_test)"
      ],
      "execution_count": 87,
      "outputs": [
        {
          "output_type": "execute_result",
          "data": {
            "text/plain": [
              "0.8333333333333334"
            ]
          },
          "metadata": {},
          "execution_count": 87
        }
      ]
    },
    {
      "cell_type": "markdown",
      "metadata": {
        "id": "ZMtoVHquewhm"
      },
      "source": [
        "It's much less than earlier of course. Let's see how we can do better. First, let's cluster the training set into 50 clusters, then for each cluster let's find the image closest to the centroid. We will call these images the representative images:"
      ]
    },
    {
      "cell_type": "code",
      "metadata": {
        "id": "hT8eeAMwewhm"
      },
      "source": [
        "k = 50"
      ],
      "execution_count": 88,
      "outputs": []
    },
    {
      "cell_type": "code",
      "metadata": {
        "id": "JBKZOMgvewhn"
      },
      "source": [
        "kmeans = KMeans(n_clusters=k, random_state=42)\n",
        "X_digits_dist = kmeans.fit_transform(X_train)\n",
        "representative_digit_idx = np.argmin(X_digits_dist, axis=0)\n",
        "X_representative_digits = X_train[representative_digit_idx]"
      ],
      "execution_count": 89,
      "outputs": []
    },
    {
      "cell_type": "markdown",
      "metadata": {
        "id": "MATAHTblewhn"
      },
      "source": [
        "Now let's plot these representative images and label them manually:"
      ]
    },
    {
      "cell_type": "code",
      "metadata": {
        "id": "koDpY7olewho",
        "outputId": "039a50f0-ef86-441c-f527-dcb48f2e60d5",
        "colab": {
          "base_uri": "https://localhost:8080/",
          "height": 157
        }
      },
      "source": [
        "plt.figure(figsize=(8, 2))\n",
        "for index, X_representative_digit in enumerate(X_representative_digits):\n",
        "    plt.subplot(k // 10, 10, index + 1)\n",
        "    plt.imshow(X_representative_digit.reshape(8, 8), cmap=\"binary\", interpolation=\"bilinear\")\n",
        "    plt.axis('off')\n",
        "\n",
        "save_fig(\"representative_images_diagram\", tight_layout=False)\n",
        "plt.show()"
      ],
      "execution_count": 90,
      "outputs": [
        {
          "output_type": "stream",
          "name": "stdout",
          "text": [
            "Saving figure representative_images_diagram\n"
          ]
        },
        {
          "output_type": "display_data",
          "data": {
            "image/png": "[encoded data removed]",
            "text/plain": [
              "<Figure size 576x144 with 50 Axes>"
            ]
          },
          "metadata": {
            "needs_background": "light"
          }
        }
      ]
    },
    {
      "cell_type": "code",
      "metadata": {
        "id": "IHqy4cicewho",
        "outputId": "cca38e19-a4da-4b47-8ec0-62a163200a86",
        "colab": {
          "base_uri": "https://localhost:8080/"
        }
      },
      "source": [
        "y_train[representative_digit_idx]"
      ],
      "execution_count": 91,
      "outputs": [
        {
          "output_type": "execute_result",
          "data": {
            "text/plain": [
              "array([4, 8, 0, 6, 8, 3, 7, 7, 9, 2, 5, 5, 8, 5, 2, 1, 2, 9, 6, 1, 1, 6,\n",
              "       9, 0, 8, 3, 0, 7, 4, 1, 6, 5, 2, 4, 1, 8, 6, 3, 9, 2, 4, 2, 9, 4,\n",
              "       7, 6, 2, 3, 1, 1])"
            ]
          },
          "metadata": {},
          "execution_count": 91
        }
      ]
    },
    {
      "cell_type": "code",
      "metadata": {
        "id": "m_WKHXY1ewho"
      },
      "source": [
        "y_representative_digits = np.array([\n",
        "    0, 1, 3, 2, 7, 6, 4, 6, 9, 5,\n",
        "    1, 2, 9, 5, 2, 7, 8, 1, 8, 6,\n",
        "    3, 2, 5, 4, 5, 4, 0, 3, 2, 6,\n",
        "    1, 7, 7, 9, 1, 8, 6, 5, 4, 8,\n",
        "    5, 3, 3, 6, 7, 9, 7, 8, 4, 9])"
      ],
      "execution_count": 92,
      "outputs": []
    },
    {
      "cell_type": "markdown",
      "metadata": {
        "id": "GOA3wytvewho"
      },
      "source": [
        "Now we have a dataset with just 50 labeled instances, but instead of being completely random instances, each of them is a representative image of its cluster. Let's see if the performance is any better:"
      ]
    },
    {
      "cell_type": "code",
      "metadata": {
        "id": "2kDeJFTUewhp",
        "outputId": "858a64ca-8878-4fb8-f3e2-3ead15f96056",
        "colab": {
          "base_uri": "https://localhost:8080/"
        }
      },
      "source": [
        "log_reg = LogisticRegression(multi_class=\"ovr\", solver=\"lbfgs\", max_iter=5000, random_state=42)\n",
        "log_reg.fit(X_representative_digits, y_representative_digits)\n",
        "log_reg.score(X_test, y_test)"
      ],
      "execution_count": 93,
      "outputs": [
        {
          "output_type": "execute_result",
          "data": {
            "text/plain": [
              "0.10444444444444445"
            ]
          },
          "metadata": {},
          "execution_count": 93
        }
      ]
    },
    {
      "cell_type": "markdown",
      "metadata": {
        "id": "PzK2vG5Gewhp"
      },
      "source": [
        "Wow! We jumped from 83.3% accuracy to 91.3%, although we are still only training the model on 50 instances. Since it's often costly and painful to label instances, especially when it has to be done manually by experts, it's a good idea to make them label representative instances rather than just random instances."
      ]
    },
    {
      "cell_type": "markdown",
      "metadata": {
        "id": "WcnDVJ-cewhp"
      },
      "source": [
        "But perhaps we can go one step further: what if we propagated the labels to all the other instances in the same cluster?"
      ]
    },
    {
      "cell_type": "code",
      "metadata": {
        "id": "cTj5PcLJewhp"
      },
      "source": [
        "y_train_propagated = np.empty(len(X_train), dtype=np.int32)\n",
        "for i in range(k):\n",
        "    y_train_propagated[kmeans.labels_==i] = y_representative_digits[i]"
      ],
      "execution_count": 94,
      "outputs": []
    },
    {
      "cell_type": "code",
      "metadata": {
        "id": "kfs1fUkeewhp",
        "outputId": "a73e7810-7f7b-4ead-a1b9-8abf228b83b3",
        "colab": {
          "base_uri": "https://localhost:8080/"
        }
      },
      "source": [
        "log_reg = LogisticRegression(multi_class=\"ovr\", solver=\"lbfgs\", max_iter=5000, random_state=42)\n",
        "log_reg.fit(X_train, y_train_propagated)"
      ],
      "execution_count": 95,
      "outputs": [
        {
          "output_type": "execute_result",
          "data": {
            "text/plain": [
              "LogisticRegression(max_iter=5000, multi_class='ovr', random_state=42)"
            ]
          },
          "metadata": {},
          "execution_count": 95
        }
      ]
    },
    {
      "cell_type": "code",
      "metadata": {
        "id": "jBGk6YZ1ewhp",
        "outputId": "c324981d-da49-4a8e-e43d-f7c5267a2eb1",
        "colab": {
          "base_uri": "https://localhost:8080/"
        }
      },
      "source": [
        "log_reg.score(X_test, y_test)"
      ],
      "execution_count": 96,
      "outputs": [
        {
          "output_type": "execute_result",
          "data": {
            "text/plain": [
              "0.14888888888888888"
            ]
          },
          "metadata": {},
          "execution_count": 96
        }
      ]
    },
    {
      "cell_type": "markdown",
      "metadata": {
        "id": "DlLxWvs-ewhp"
      },
      "source": [
        "We got a tiny little accuracy boost. Better than nothing, but we should probably have propagated the labels only to the instances closest to the centroid, because by propagating to the full cluster, we have certainly included some outliers. Let's only propagate the labels to the 75th percentile closest to the centroid:"
      ]
    },
    {
      "cell_type": "code",
      "metadata": {
        "id": "C8hbb8oXewhq"
      },
      "source": [
        "percentile_closest = 75\n",
        "\n",
        "X_cluster_dist = X_digits_dist[np.arange(len(X_train)), kmeans.labels_]\n",
        "for i in range(k):\n",
        "    in_cluster = (kmeans.labels_ == i)\n",
        "    cluster_dist = X_cluster_dist[in_cluster]\n",
        "    cutoff_distance = np.percentile(cluster_dist, percentile_closest)\n",
        "    above_cutoff = (X_cluster_dist > cutoff_distance)\n",
        "    X_cluster_dist[in_cluster & above_cutoff] = -1"
      ],
      "execution_count": 97,
      "outputs": []
    },
    {
      "cell_type": "code",
      "metadata": {
        "id": "D0vJBoXYewhq"
      },
      "source": [
        "partially_propagated = (X_cluster_dist != -1)\n",
        "X_train_partially_propagated = X_train[partially_propagated]\n",
        "y_train_partially_propagated = y_train_propagated[partially_propagated]"
      ],
      "execution_count": 98,
      "outputs": []
    },
    {
      "cell_type": "code",
      "metadata": {
        "id": "UrEzd23zewhq",
        "outputId": "1e98eeae-9f7e-4d83-e129-934906bf4782",
        "colab": {
          "base_uri": "https://localhost:8080/"
        }
      },
      "source": [
        "log_reg = LogisticRegression(multi_class=\"ovr\", solver=\"lbfgs\", max_iter=5000, random_state=42)\n",
        "log_reg.fit(X_train_partially_propagated, y_train_partially_propagated)"
      ],
      "execution_count": 99,
      "outputs": [
        {
          "output_type": "execute_result",
          "data": {
            "text/plain": [
              "LogisticRegression(max_iter=5000, multi_class='ovr', random_state=42)"
            ]
          },
          "metadata": {},
          "execution_count": 99
        }
      ]
    },
    {
      "cell_type": "code",
      "metadata": {
        "id": "_v2NF0_Aewhq",
        "outputId": "42b47bb8-6b29-4bf7-c6bc-cb39441ab84e",
        "colab": {
          "base_uri": "https://localhost:8080/"
        }
      },
      "source": [
        "log_reg.score(X_test, y_test)"
      ],
      "execution_count": 100,
      "outputs": [
        {
          "output_type": "execute_result",
          "data": {
            "text/plain": [
              "0.15777777777777777"
            ]
          },
          "metadata": {},
          "execution_count": 100
        }
      ]
    },
    {
      "cell_type": "markdown",
      "metadata": {
        "id": "kANNsQ6Cewhq"
      },
      "source": [
        "A bit better. With just 50 labeled instances (just 5 examples per class on average!), we got 92.7% performance, which is getting closer to the performance of logistic regression on the fully labeled _digits_ dataset (which was 96.9%)."
      ]
    },
    {
      "cell_type": "markdown",
      "metadata": {
        "id": "_gybBX4Eewhq"
      },
      "source": [
        "This is because the propagated labels are actually pretty good: their accuracy is close to 96%:"
      ]
    },
    {
      "cell_type": "code",
      "metadata": {
        "id": "otPxWtzOewhq",
        "outputId": "4cdf43a5-cc42-47ca-cac4-e407b081039d",
        "colab": {
          "base_uri": "https://localhost:8080/"
        }
      },
      "source": [
        "np.mean(y_train_partially_propagated == y_train[partially_propagated])"
      ],
      "execution_count": 101,
      "outputs": [
        {
          "output_type": "execute_result",
          "data": {
            "text/plain": [
              "0.19541375872382852"
            ]
          },
          "metadata": {},
          "execution_count": 101
        }
      ]
    },
    {
      "cell_type": "markdown",
      "metadata": {
        "id": "hjZ2jj1sewhq"
      },
      "source": [
        "You could now do a few iterations of *active learning*:\n",
        "1. Manually label the instances that the classifier is least sure about, if possible by picking them in distinct clusters.\n",
        "2. Train a new model with these additional labels."
      ]
    }
  ]
}