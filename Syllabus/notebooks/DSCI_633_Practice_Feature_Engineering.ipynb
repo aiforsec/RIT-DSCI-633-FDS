{
  "nbformat": 4,
  "nbformat_minor": 0,
  "metadata": {
    "colab": {
      "provenance": []
    },
    "kernelspec": {
      "name": "python3",
      "display_name": "Python 3"
    },
    "language_info": {
      "name": "python"
    }
  },
  "cells": [
    {
      "cell_type": "markdown",
      "source": [
        "#Introduction:\n",
        "\n",
        "This notebook will guide you through different feature engineering techniques covered in the class."
      ],
      "metadata": {
        "id": "oK_ljVyhaO_S"
      }
    },
    {
      "cell_type": "markdown",
      "source": [
        "# Feature Encoding\n",
        "Feature encoding is used to turn categorical (non-numerical) features into numerical values. Since most machine-learning algorithms accepts numerical values as input, it is essential to transform categorical values into numerical ones. Feature encoding can also help capture non-linear relationships between different features. We will explore different feature encoding techniques in this section."
      ],
      "metadata": {
        "id": "v-NoLMiseknm"
      }
    },
    {
      "cell_type": "markdown",
      "source": [
        "## Label Encoding\n",
        "Encode categories as ordered integers. This is usually done for encoding target labels (i.e., the predicted output `y`, not the input `x`). However, it is okay to use for input feature some decision tree-based methods.\n",
        "\n",
        "Reference: https://scikit-learn.org/stable/modules/generated/sklearn.preprocessing.LabelEncoder.html"
      ],
      "metadata": {
        "id": "xSeFrPEofcZE"
      }
    },
    {
      "cell_type": "code",
      "source": [
        "import pandas as pd\n",
        "from sklearn.preprocessing import LabelEncoder\n",
        "\n",
        "# Example dataset\n",
        "data = pd.DataFrame({'Color': ['Red', 'Blue', 'Green', 'Red', 'Green', 'Red', 'Blue', 'Red', 'Green', 'Red']})\n",
        "\n",
        "# Initialize a LabelEncoder instance\n",
        "encoder = LabelEncoder()\n",
        "\n",
        "# Perform label encoding\n",
        "data['Color_LabelEncoded'] = encoder.fit_transform(data['Color'])\n",
        "\n",
        "# Print the modified dataset\n",
        "print(data)"
      ],
      "metadata": {
        "id": "p1rJAHEJaLQ-",
        "colab": {
          "base_uri": "https://localhost:8080/"
        },
        "outputId": "467d94b4-6d7c-41d1-94ff-db79299f94ab"
      },
      "execution_count": null,
      "outputs": [
        {
          "output_type": "stream",
          "name": "stdout",
          "text": [
            "   Color  Color_LabelEncoded\n",
            "0    Red                   2\n",
            "1   Blue                   0\n",
            "2  Green                   1\n",
            "3    Red                   2\n",
            "4  Green                   1\n",
            "5    Red                   2\n",
            "6   Blue                   0\n",
            "7    Red                   2\n",
            "8  Green                   1\n",
            "9    Red                   2\n"
          ]
        }
      ]
    },
    {
      "cell_type": "markdown",
      "source": [
        "## Exercise\n",
        "Add another column to the dataset that stores the inverse transforms of the `Color_LabelEncoded` column (don't just copy the `Color` column!)"
      ],
      "metadata": {
        "id": "0RykLwGrib2w"
      }
    },
    {
      "cell_type": "code",
      "source": [
        "#YOUR CODE"
      ],
      "metadata": {
        "id": "ntHU0REUoPXf"
      },
      "execution_count": null,
      "outputs": []
    },
    {
      "cell_type": "markdown",
      "source": [
        "## One hot encoding\n",
        "One hot encoding can be used to encode categorical features as a one-hot numeric array. It creates binary columns for each unique category in the variable, where a value of 1 indicates the presence of that category and 0 indicates its absence.\n",
        "\n",
        "Reference: https://scikit-learn.org/stable/modules/generated/sklearn.preprocessing.OneHotEncoder.html"
      ],
      "metadata": {
        "id": "QGilALK7julf"
      }
    },
    {
      "cell_type": "code",
      "source": [
        "from sklearn.preprocessing import OneHotEncoder\n",
        "\n",
        "# Example dataset\n",
        "\n",
        "# Create an instance of the OneHotEncoder\n",
        "encoder = OneHotEncoder()\n",
        "\n",
        "# Fit and transform the data\n",
        "encoded_data = encoder.fit_transform(data[['Color']]).toarray()\n",
        "\n",
        "# Create a dataframe with the encoded data\n",
        "encoded_df = pd.DataFrame(encoded_data, columns=encoder.get_feature_names_out(['Color']))\n",
        "\n",
        "# Print the encoded dataframe\n",
        "print(encoded_df)"
      ],
      "metadata": {
        "colab": {
          "base_uri": "https://localhost:8080/"
        },
        "id": "wRcx4c_WiRvx",
        "outputId": "517ab27f-46d9-4a40-8707-c7dee422b3e4"
      },
      "execution_count": null,
      "outputs": [
        {
          "output_type": "stream",
          "name": "stdout",
          "text": [
            "   Color_Blue  Color_Green  Color_Red\n",
            "0         0.0          0.0        1.0\n",
            "1         1.0          0.0        0.0\n",
            "2         0.0          1.0        0.0\n",
            "3         0.0          0.0        1.0\n",
            "4         0.0          1.0        0.0\n",
            "5         0.0          0.0        1.0\n",
            "6         1.0          0.0        0.0\n",
            "7         0.0          0.0        1.0\n",
            "8         0.0          1.0        0.0\n",
            "9         0.0          0.0        1.0\n"
          ]
        }
      ]
    },
    {
      "cell_type": "markdown",
      "source": [
        "## Excercise\n",
        "Enhance the one-hot encoding by handling unseen categories. Also, drop the first cacategory in the feature.\n"
      ],
      "metadata": {
        "id": "9SgZkgNHSnIR"
      }
    },
    {
      "cell_type": "code",
      "source": [
        "#YOUR CODE"
      ],
      "metadata": {
        "id": "H0bNfc2goRUY"
      },
      "execution_count": null,
      "outputs": []
    },
    {
      "cell_type": "markdown",
      "source": [
        "## Frequency encoding\n",
        "Frequency encoding is used to represent categorical variables by their frequency or occurrence in the dataset. It replaces each category with the percentage or count of occurrences of that category in the dataset. Frequency encoding can help capture valuable information about the relationship between a category and the target variable.\n",
        "\n",
        "\n"
      ],
      "metadata": {
        "id": "qV3IYyeUU5Hu"
      }
    },
    {
      "cell_type": "code",
      "source": [
        "# Compute the frequency of each category\n",
        "frequency = data['Color'].value_counts(normalize=True)\n",
        "\n",
        "# Map the frequency values to the original categories\n",
        "data['Color_Frequency'] = data['Color'].map(frequency)\n",
        "\n",
        "# Print the modified dataset\n",
        "print(data)"
      ],
      "metadata": {
        "colab": {
          "base_uri": "https://localhost:8080/"
        },
        "id": "d_yryW0uVaf2",
        "outputId": "1af3c5b8-1372-41c9-b2eb-e863467dd0ac"
      },
      "execution_count": null,
      "outputs": [
        {
          "output_type": "stream",
          "name": "stdout",
          "text": [
            "   Color  Color_LabelEncoded  Color_Frequency\n",
            "0    Red                   2              0.5\n",
            "1   Blue                   0              0.2\n",
            "2  Green                   1              0.3\n",
            "3    Red                   2              0.5\n",
            "4  Green                   1              0.3\n",
            "5    Red                   2              0.5\n",
            "6   Blue                   0              0.2\n",
            "7    Red                   2              0.5\n",
            "8  Green                   1              0.3\n",
            "9    Red                   2              0.5\n"
          ]
        }
      ]
    },
    {
      "cell_type": "markdown",
      "source": [
        "## Target Mean Encoding\n",
        "Target mean encoding used to represent categorical variables by the mean or average of the target variable within each category. It replaces each category with the average target value of that category. Target mean encoding can capture the relationship between a category and the target variable, and it is particularly useful for categorical variables with high cardinality.\n",
        "\n"
      ],
      "metadata": {
        "id": "iT1lqkfiWHy9"
      }
    },
    {
      "cell_type": "code",
      "source": [
        "# We are changing the dataset by adding target column\n",
        "data = pd.DataFrame({'Color': ['Red', 'Blue', 'Green', 'Red', 'Green', 'Red', 'Blue', 'Red', 'Green', 'Red'],\n",
        "                     'Target': [1, 1, 0, 1, 0, 1, 0, 1, 1, 0]})\n",
        "\n",
        "# Compute the mean target value for each category\n",
        "mean_target = data.groupby('Color')['Target'].mean()\n",
        "\n",
        "# Map the mean target values to the original categories\n",
        "data['Color_TargetMean'] = data['Color'].map(mean_target)\n",
        "\n",
        "# Print the modified dataset\n",
        "print(data)"
      ],
      "metadata": {
        "colab": {
          "base_uri": "https://localhost:8080/"
        },
        "id": "GTaWo0QnWYww",
        "outputId": "5a7516db-1c18-4056-8cc7-8d9aca1a5183"
      },
      "execution_count": null,
      "outputs": [
        {
          "output_type": "stream",
          "name": "stdout",
          "text": [
            "   Color  Target  Color_TargetMean\n",
            "0    Red       1          0.800000\n",
            "1   Blue       1          0.500000\n",
            "2  Green       0          0.333333\n",
            "3    Red       1          0.800000\n",
            "4  Green       0          0.333333\n",
            "5    Red       1          0.800000\n",
            "6   Blue       0          0.500000\n",
            "7    Red       1          0.800000\n",
            "8  Green       1          0.333333\n",
            "9    Red       0          0.800000\n"
          ]
        }
      ]
    },
    {
      "cell_type": "markdown",
      "source": [
        "Target mean smoothing is used when some categories may have very few training examples, as otherwise the mean target may assume extreme values for these categories. It does so by mixing the target mean for the category with global mean of the target variable.Categories with fewer examples get more affected by global weight compared to categories with more examples."
      ],
      "metadata": {
        "id": "ejlORfEHfbxz"
      }
    },
    {
      "cell_type": "code",
      "source": [
        "import numpy as np\n",
        "\n",
        "\n",
        "# the weight given to global mean\n",
        "weight = 0.25\n",
        "\n",
        "# Compute the global mean target value\n",
        "global_mean = data['Target'].mean()\n",
        "\n",
        "# Compute the per-category count and mean target value\n",
        "category_stats = data.groupby('Color')['Target'].agg(['count', 'mean'])\n",
        "category_stats['smoothed_mean'] = (category_stats['count'] * category_stats['mean'] + global_mean * weight) / (category_stats['count'] + weight)\n",
        "\n",
        "# Map the smoothed mean target values to the original categories\n",
        "data['Color_TargetMean_Smoothed'] = data['Color'].map(category_stats['smoothed_mean'])\n",
        "\n",
        "# Print the modified dataset\n",
        "print(data)"
      ],
      "metadata": {
        "colab": {
          "base_uri": "https://localhost:8080/"
        },
        "id": "-LIbU4q3XnVu",
        "outputId": "29633648-382b-41d9-ee65-5ad9e974d5d1"
      },
      "execution_count": null,
      "outputs": [
        {
          "output_type": "stream",
          "name": "stdout",
          "text": [
            "   Color  Target  Color_TargetMean  Color_TargetMean_Smoothed\n",
            "0    Red       1          0.800000                   0.790476\n",
            "1   Blue       1          0.500000                   0.511111\n",
            "2  Green       0          0.333333                   0.353846\n",
            "3    Red       1          0.800000                   0.790476\n",
            "4  Green       0          0.333333                   0.353846\n",
            "5    Red       1          0.800000                   0.790476\n",
            "6   Blue       0          0.500000                   0.511111\n",
            "7    Red       1          0.800000                   0.790476\n",
            "8  Green       1          0.333333                   0.353846\n",
            "9    Red       0          0.800000                   0.790476\n"
          ]
        }
      ]
    },
    {
      "cell_type": "markdown",
      "source": [
        "### Exercise\n",
        "What should happen when `weight=0` and when` weight=infinity`. Verify with code.\n",
        "\n"
      ],
      "metadata": {
        "id": "6f8vZ9bXZ-cL"
      }
    },
    {
      "cell_type": "code",
      "source": [
        "#YOUR CODE"
      ],
      "metadata": {
        "id": "Rufm7ExboVaX"
      },
      "execution_count": null,
      "outputs": []
    },
    {
      "cell_type": "markdown",
      "source": [
        "### K-fold holdout\n",
        "Target mean encoding with k-fold holdout is a technique used to minimize data leakage during target encoding. It involves splitting the dataset into k folds and encoding the categorical variables using the mean target value from the remaining folds. This approach helps prevent the model from learning information about the target variable from the validation or test folds, reducing the risk of overfitting.\n"
      ],
      "metadata": {
        "id": "E8TQy6UgcQll"
      }
    },
    {
      "cell_type": "code",
      "source": [
        "from sklearn.model_selection import KFold\n",
        "\n",
        "# Define the number of folds for k-fold holdout\n",
        "k = 5\n",
        "\n",
        "# Initialize a new column for the target mean encoding\n",
        "data['Color_TargetMean_Encoded_5Fold'] = 0.0\n",
        "\n",
        "# Perform k-fold holdout and calculate target mean encoding\n",
        "kf = KFold(n_splits=k, shuffle=True, random_state=42)\n",
        "for train_index, val_index in kf.split(data):\n",
        "    X_train, X_val = data.iloc[train_index], data.iloc[val_index]\n",
        "    mean_target = X_train.groupby('Color')['Target'].mean()\n",
        "    data.loc[val_index, 'Color_TargetMean_Encoded_5Fold'] = X_val['Color'].map(mean_target)\n",
        "\n",
        "# Print the modified dataset\n",
        "print(data)"
      ],
      "metadata": {
        "colab": {
          "base_uri": "https://localhost:8080/"
        },
        "id": "J55CBWN1cPvt",
        "outputId": "eb374ad0-ebe3-4183-ed08-a40d7e397dd2"
      },
      "execution_count": null,
      "outputs": [
        {
          "output_type": "stream",
          "name": "stdout",
          "text": [
            "   Color  Target  Color_TargetMean  Color_TargetMean_Smoothed  \\\n",
            "0    Red       1          0.800000                   0.790476   \n",
            "1   Blue       1          0.500000                   0.511111   \n",
            "2  Green       0          0.333333                   0.353846   \n",
            "3    Red       1          0.800000                   0.790476   \n",
            "4  Green       0          0.333333                   0.353846   \n",
            "5    Red       1          0.800000                   0.790476   \n",
            "6   Blue       0          0.500000                   0.511111   \n",
            "7    Red       1          0.800000                   0.790476   \n",
            "8  Green       1          0.333333                   0.353846   \n",
            "9    Red       0          0.800000                   0.790476   \n",
            "\n",
            "   Color_TargetMean_Encoded_5Fold  \n",
            "0                        0.666667  \n",
            "1                        0.000000  \n",
            "2                        0.500000  \n",
            "3                        0.750000  \n",
            "4                        0.500000  \n",
            "5                        0.666667  \n",
            "6                        1.000000  \n",
            "7                        0.750000  \n",
            "8                        0.000000  \n",
            "9                        1.000000  \n"
          ]
        }
      ]
    },
    {
      "cell_type": "markdown",
      "source": [
        "### Exercise: Modify the above code to perform leave-one-out target mean encoding."
      ],
      "metadata": {
        "id": "eWAfYW-Hc-fG"
      }
    },
    {
      "cell_type": "markdown",
      "source": [
        "### Feature Imputation\n",
        "Feature imputation is a crucial step in data preprocessing when dealing with missing values. It involves filling in missing values with appropriate estimates to ensure the data is complete and suitable for analysis. For numerical data, we can replace with mean or median of the distribution. For categorical data, they can replaced by the most frequent value along each column.\n",
        "\n",
        "Refernce: https://scikit-learn.org/stable/modules/generated/sklearn.impute.SimpleImputer.html"
      ],
      "metadata": {
        "id": "TsW55wgyi0F4"
      }
    },
    {
      "cell_type": "code",
      "source": [
        "# Example code for numerical data\n",
        "from sklearn.impute import SimpleImputer\n",
        "\n",
        "# Example dataset\n",
        "data = pd.DataFrame({'Age': [25, 30, np.nan, 35, 40, 45],\n",
        "                     'Income': [50000, np.nan, 60000, 70000, np.nan, 800000]})\n",
        "\n",
        "# Initialize SimpleImputer for mean imputation\n",
        "imputer = SimpleImputer(strategy='mean')\n",
        "\n",
        "# Perform mean imputation on numerical data\n",
        "data['Age_Imputed'] = imputer.fit_transform(data[['Age']])\n",
        "data['Income_Imputed'] = imputer.fit_transform(data[['Income']])\n",
        "\n",
        "# Print the modified dataset\n",
        "print(data)"
      ],
      "metadata": {
        "colab": {
          "base_uri": "https://localhost:8080/"
        },
        "id": "X8yinlhPjw0w",
        "outputId": "3df104ba-0597-411e-c271-ccc27c298a95"
      },
      "execution_count": null,
      "outputs": [
        {
          "output_type": "stream",
          "name": "stdout",
          "text": [
            "    Age    Income  Age_Imputed  Income_Imputed\n",
            "0  25.0   50000.0         25.0         50000.0\n",
            "1  30.0       NaN         30.0        245000.0\n",
            "2   NaN   60000.0         35.0         60000.0\n",
            "3  35.0   70000.0         35.0         70000.0\n",
            "4  40.0       NaN         40.0        245000.0\n",
            "5  45.0  800000.0         45.0        800000.0\n"
          ]
        }
      ]
    },
    {
      "cell_type": "code",
      "source": [
        "# Example code for categorical data\n",
        "\n",
        "# Example dataset\n",
        "data = pd.DataFrame({'Color': ['Red', 'Blue', np.nan, 'Green', 'Red', 'Blue'],\n",
        "                     'Size': ['Small', 'Medium', 'Large', np.nan, 'Small', 'Medium']})\n",
        "\n",
        "# Initialize SimpleImputer for mode imputation\n",
        "imputer = SimpleImputer(strategy='most_frequent')\n",
        "\n",
        "# Perform most frequent (mode) imputation on categorical data\n",
        "data['Color_Imputed'] = imputer.fit_transform(data[['Color']])\n",
        "data['Size_Imputed'] = imputer.fit_transform(data[['Size']])\n",
        "\n",
        "# Print the modified dataset\n",
        "print(data)"
      ],
      "metadata": {
        "colab": {
          "base_uri": "https://localhost:8080/"
        },
        "id": "UxCr0PjMkJjB",
        "outputId": "71962c1a-c2ab-452d-8255-9ed18a7c2809"
      },
      "execution_count": null,
      "outputs": [
        {
          "output_type": "stream",
          "name": "stdout",
          "text": [
            "   Color    Size Color_Imputed Size_Imputed\n",
            "0    Red   Small           Red        Small\n",
            "1   Blue  Medium          Blue       Medium\n",
            "2    NaN   Large          Blue        Large\n",
            "3  Green     NaN         Green       Medium\n",
            "4    Red   Small           Red        Small\n",
            "5   Blue  Medium          Blue       Medium\n"
          ]
        }
      ]
    },
    {
      "cell_type": "markdown",
      "source": [
        "### Exercise\n",
        "Replace the mean with median for the categorical data. Which one is more suitable for this dataset?\n"
      ],
      "metadata": {
        "id": "VVoGXBTukCi0"
      }
    },
    {
      "cell_type": "code",
      "source": [
        "#YOUR CODE"
      ],
      "metadata": {
        "id": "X9RgTJtQok2_"
      },
      "execution_count": null,
      "outputs": []
    },
    {
      "cell_type": "markdown",
      "source": [
        "## Target Transformation\n",
        "Target transformation is used to transform the target variable to improve its distribution or relationship with the input features. This can help improve the performance of some machine learning models. It can be especially helpful when we have some prior knowledge about target distribution. Below we will show an example with a toy dataset where the output follows exponential distribution, and as such applying log transform improves ther performance of the model.\n",
        "\n",
        "\n"
      ],
      "metadata": {
        "id": "4rRzOaHpktqk"
      }
    },
    {
      "cell_type": "code",
      "source": [
        "import numpy as np\n",
        "from sklearn.linear_model import LinearRegression\n",
        "from sklearn.metrics import mean_squared_error\n",
        "\n",
        "# Set random seed for reproducibility\n",
        "np.random.seed(42)\n",
        "\n",
        "# Generate random dataset\n",
        "n_samples = 100\n",
        "X = np.random.rand(n_samples, 1) * 5\n",
        "y = np.exp(X.flatten()) + np.random.randn(n_samples)\n",
        "\n",
        "# Fit a linear regression model on the original target variable\n",
        "regressor = LinearRegression()\n",
        "regressor.fit(X, y)\n",
        "predictions = regressor.predict(X)\n",
        "mse_original = mean_squared_error(y, predictions)\n",
        "\n",
        "# Apply logarithmic transformation to the target variable\n",
        "y_log = np.log1p(y)\n",
        "\n",
        "# Fit a linear regression model on the transformed target variable\n",
        "regressor_log = LinearRegression()\n",
        "regressor_log.fit(X, y_log)\n",
        "predictions_log = np.expm1(regressor_log.predict(X))\n",
        "mse_log_transform = mean_squared_error(y, predictions_log)\n",
        "\n",
        "# Print mean squared errors\n",
        "print(f\"MSE (Original): {mse_original:.2f}\")\n",
        "print(f\"MSE (Log Transform): {mse_log_transform:.2f}\")"
      ],
      "metadata": {
        "colab": {
          "base_uri": "https://localhost:8080/"
        },
        "id": "4KHTnK6Tkvs7",
        "outputId": "fde2c659-5e1c-4166-9b20-d6213b08969e"
      },
      "execution_count": null,
      "outputs": [
        {
          "output_type": "stream",
          "name": "stdout",
          "text": [
            "MSE (Original): 334.28\n",
            "MSE (Log Transform): 27.75\n"
          ]
        }
      ]
    },
    {
      "cell_type": "markdown",
      "source": [
        "# Finding Outliers:\n",
        "\n",
        "Outliers are data objects that deviate significantly from normal objects as if it were generated by a different mechanism. They are different from noise data. Noise is random error or variance in a measured variable which should be removed. Outliers are data objects that violate mechanism or distribution that generates normal data. But detecting them can be beneficial in applications such as credit card fraud detection.\n",
        "\n",
        "We can discover outliers with visualization tools or statistical methodologies\n",
        "- Standard deviation\n",
        "- Z-scores\n",
        "- IQR score\n",
        "- Box plot\n",
        "- Scatter plot"
      ],
      "metadata": {
        "id": "1vW6m3WEb53O"
      }
    },
    {
      "cell_type": "markdown",
      "source": [
        "# Standard deviation\n",
        "\n",
        "Standard deviation is a statistical measure that quantifies the amount of variation or dispersion in a dataset. It provides insights into the spread of data points around the mean.\n",
        "\n",
        "Imagine you have a dataset representing the daily temperatures in a city for a month. Calculating the standard deviation of these temperatures can help you understand how much the daily temperatures deviate from the average temperature, providing information about the variability in weather conditions."
      ],
      "metadata": {
        "id": "qBz2f1r6jLvR"
      }
    },
    {
      "cell_type": "markdown",
      "source": [
        "**bold text**## Exercise:\n",
        "Calculate the standard deviation for a dataset of daily temperatures in Python using NumPy. Explain what the standard deviation value tells you about the variability of temperatures throughout the month."
      ],
      "metadata": {
        "id": "CT2aQtmxjR5i"
      }
    },
    {
      "cell_type": "markdown",
      "source": [
        "- Daily Temperatures (°C): [20, 22, 19, 24, 26, 23, 18, 21, 25, 27, 22, 20, 19, 26, 28, 30, 23, 22, 21, 19, 20, 25, 24, 27, 26]\n"
      ],
      "metadata": {
        "id": "k3-CVYGsjW1K"
      }
    },
    {
      "cell_type": "code",
      "source": [
        "#YOUR CODE"
      ],
      "metadata": {
        "id": "Y_5WA7jHjYjl"
      },
      "execution_count": null,
      "outputs": []
    },
    {
      "cell_type": "markdown",
      "source": [
        "# Z-scores:\n",
        "\n",
        "The Z-score, also known as the standard score, measures how many standard deviations a data point is away from the mean. It helps assess how unusual or extreme a data point is compared to the rest of the dataset.\n",
        "\n",
        "Suppose you have a dataset of heights for a group of people. By calculating the Z-score for an individual's height, you can determine how their height compares to the average height in standard deviation units. This information can be used to identify exceptionally tall or short individuals\n",
        "\n",
        "## Exercise:\n",
        "Calculate the Z-score for a person's height in a dataset of heights using Python and NumPy. Interpret the Z-score and explain whether the person's height is typical or exceptional.\n",
        "\n",
        "- Heights (in cm): [165, 170, 175, 160, 185, 190, 155, 200, 160, 175, 170, 168, 163, 178, 172]\n",
        "- Individual's Height: 185 cm\n"
      ],
      "metadata": {
        "id": "-h590ZyKjaQr"
      }
    },
    {
      "cell_type": "code",
      "source": [
        "#YOUR CODE"
      ],
      "metadata": {
        "id": "qLCe3mJ3j1s7"
      },
      "execution_count": null,
      "outputs": []
    },
    {
      "cell_type": "markdown",
      "source": [
        "# IQR:\n",
        "The Interquartile Range (IQR) is a measure of statistical dispersion. It represents the range between the first quartile (Q1) and the third quartile (Q3) and is useful for understanding the spread of the middle 50% of the data.\n",
        "\n",
        "Imagine you have a dataset of household incomes. Calculating the IQR can help you understand the income range for the middle 50% of households, which is valuable for assessing income disparities.\n",
        "\n",
        "## Exercise:\n",
        "Calculate the IQR for a dataset of household incomes using Python and NumPy. Describe what the IQR score indicates about the income distribution of the middle 50% of households.\n",
        "\n",
        "- Household Incomes (in thousands of dollars): [40, 45, 50, 60, 65, 70, 75, 80, 85, 90, 95, 100, 110, 120, 130, 140, 150]\n"
      ],
      "metadata": {
        "id": "8zSphrcqj37I"
      }
    },
    {
      "cell_type": "code",
      "source": [
        "#YOUR CODE"
      ],
      "metadata": {
        "id": "x_n09QxDkC1S"
      },
      "execution_count": null,
      "outputs": []
    },
    {
      "cell_type": "markdown",
      "source": [
        "# Box Plot\n",
        "\n",
        "A box plot, also known as a box-and-whisker plot, is a graphical representation used to display the distribution of a dataset. It provides a visual summary of the data's central tendency, spread, and potential outliers."
      ],
      "metadata": {
        "id": "qeorf3eBiSvH"
      }
    },
    {
      "cell_type": "code",
      "source": [
        "#Code source: MatPlotLib Official Documentation\n",
        "\n",
        "import numpy as np\n",
        "import matplotlib.pyplot as plt\n",
        "\n",
        "# Fixing random state for reproducibility\n",
        "np.random.seed(19680801)\n",
        "\n",
        "# Create some data\n",
        "spread = np.random.rand(50) * 100\n",
        "center = np.ones(25) * 50\n",
        "flier_high = np.random.rand(10) * 100 + 100\n",
        "flier_low = np.random.rand(10) * -100\n",
        "data = np.concatenate((spread, center, flier_high, flier_low))\n",
        "fig1, ax1 = plt.subplots()\n",
        "ax1.set_title('Basic Plot')\n",
        "ax1.boxplot(data)"
      ],
      "metadata": {
        "colab": {
          "base_uri": "https://localhost:8080/",
          "height": 595
        },
        "id": "_HA4sTySbvqF",
        "outputId": "4089f5f4-1390-4203-f38b-34c2214687f2"
      },
      "execution_count": null,
      "outputs": [
        {
          "output_type": "execute_result",
          "data": {
            "text/plain": [
              "{'whiskers': [<matplotlib.lines.Line2D at 0x7a60f0a3b220>,\n",
              "  <matplotlib.lines.Line2D at 0x7a60f0a3b4c0>],\n",
              " 'caps': [<matplotlib.lines.Line2D at 0x7a60f0a3b760>,\n",
              "  <matplotlib.lines.Line2D at 0x7a60f0a3ba00>],\n",
              " 'boxes': [<matplotlib.lines.Line2D at 0x7a60f0a3af80>],\n",
              " 'medians': [<matplotlib.lines.Line2D at 0x7a60f0a3bca0>],\n",
              " 'fliers': [<matplotlib.lines.Line2D at 0x7a60f0a3bf40>],\n",
              " 'means': []}"
            ]
          },
          "metadata": {},
          "execution_count": 1
        },
        {
          "output_type": "display_data",
          "data": {
            "text/plain": [
              "<Figure size 640x480 with 1 Axes>"
            ],
            "image/png": "[encoded data removed]"
          },
          "metadata": {}
        }
      ]
    },
    {
      "cell_type": "markdown",
      "source": [
        "In the figure above, the circular data points are plotted far away from the box, meaning they are outliers.  "
      ],
      "metadata": {
        "id": "FHYjV60fdmro"
      }
    },
    {
      "cell_type": "markdown",
      "source": [
        "## Your task:\n",
        "Given the following dataframe, plot box-plot for column X.\n",
        "\n",
        "Hint: You can use matplotlib to plot each column separately. Or, look for pandas library boxplot that plots boxplot for the dataframe directly.\n"
      ],
      "metadata": {
        "id": "GDrK3dT8eqSd"
      }
    },
    {
      "cell_type": "code",
      "source": [
        "import pandas as pd\n",
        "import numpy as np\n",
        "df = pd.DataFrame(np.random.rand(100, 3), columns=['X', 'Y', 'Z'])"
      ],
      "metadata": {
        "id": "kyKeruCVdNqY"
      },
      "execution_count": null,
      "outputs": []
    },
    {
      "cell_type": "code",
      "source": [
        "#YOUR CODE"
      ],
      "metadata": {
        "id": "I5qKORdwee1j"
      },
      "execution_count": null,
      "outputs": []
    },
    {
      "cell_type": "markdown",
      "source": [
        "\n",
        "# Your task:\n",
        "\n",
        "You are given a dataset of test scores for a class. Use Python and Matplotlib to create a box plot of the scores. Analyze the box plot and describe what the median, quartiles, and potential outliers reveal about the distribution of test scores.\n",
        "\n",
        "Test Scores: [85, 90, 72, 68, 78, 94, 55, 98, 120, 60, 105, 82, 76, 89]"
      ],
      "metadata": {
        "id": "7ym99OGLikPI"
      }
    },
    {
      "cell_type": "code",
      "source": [
        "#YOUR CODE"
      ],
      "metadata": {
        "id": "B8qyKRxaijlf"
      },
      "execution_count": null,
      "outputs": []
    },
    {
      "cell_type": "markdown",
      "source": [
        "# Scatter plot\n",
        "\n",
        "A scatter plot is a data visualization technique that displays individual data points as dots on a two-dimensional plane. It is used to visualize relationships or patterns between two variables.\n",
        "\n",
        "Draw a scatter plot to find outliers in a the marks obtained by a class in Computer Science and Biology. Assume there are 8 students in the class.  \n",
        "\n",
        "\n",
        "- cs_marks = [88, 92, 80, 89, 100, 80, 60, 100]\n",
        "- biology_marks = [35, 79, 29, 48, 97, 30, 32, 45]\n",
        "\n",
        "Give different colors for CS_marks and Biology_masks plot. What can you observe from the plot?\n",
        "\n",
        "Hint: Use scatter plot from matplotlib library."
      ],
      "metadata": {
        "id": "FoHOtCIzewF1"
      }
    },
    {
      "cell_type": "code",
      "source": [
        "# YOUR CODE"
      ],
      "metadata": {
        "id": "N0UpxjULgL3I"
      },
      "execution_count": null,
      "outputs": []
    },
    {
      "cell_type": "code",
      "source": [],
      "metadata": {
        "id": "0rNE3v0XgTwz"
      },
      "execution_count": null,
      "outputs": []
    },
    {
      "cell_type": "markdown",
      "source": [
        "# Exercise:\n",
        "\n",
        "Suppose you have data on the number of hours studied and the corresponding test scores of a group of students. A scatter plot can help you examine whether there is a correlation between the number of hours studied and test scores. Each dot on the plot represents a student, with the x-coordinate indicating hours studied and the y-coordinate representing test scores.\n",
        "\n",
        "Given data on the number of hours studied and test scores, create a scatter plot using Python and Matplotlib. Interpret the scatter plot to determine whether there is a relationship between the two variables.\n",
        "\n",
        "- Hours Studied: [1, 2, 3, 4, 5, 6, 7, 8, 9, 10]\n",
        "- Test Scores: [50, 55, 62, 68, 72, 75, 80, 85, 90, 95]"
      ],
      "metadata": {
        "id": "GHomjEcOi0cr"
      }
    },
    {
      "cell_type": "code",
      "source": [
        "#YOUR CODE"
      ],
      "metadata": {
        "id": "-DQzhe63i6PR"
      },
      "execution_count": null,
      "outputs": []
    },
    {
      "cell_type": "markdown",
      "source": [
        "# Handling Outliers\n",
        "\n"
      ],
      "metadata": {
        "id": "NA1X61TzkM1q"
      }
    },
    {
      "cell_type": "markdown",
      "source": [
        "# Handling Outliers Using Log Transformation\n",
        "\n",
        "Log transformation is useful for dealing with positively skewed data. By taking the natural logarithm of data points, you can reduce the influence of extreme values.\n",
        "\n",
        "Example: You have a dataset of website page load times. Log transformation can help make the data more symmetric and reduce the impact of unusually long load times.\n",
        "\n",
        "Exercise: Given a dataset of website page load times, apply log transformation to the data and visualize the impact on data distribution and outlier handling."
      ],
      "metadata": {
        "id": "G3bATTNMuUBW"
      }
    },
    {
      "cell_type": "code",
      "source": [
        "import numpy as np\n",
        "import matplotlib.pyplot as plt\n",
        "\n",
        "# Given data\n",
        "page_load_times = [100, 120, 130, 150, 200, 220, 250, 300, 350, 400, 600, 700, 1000, 1500, 2000, 5000]\n",
        "\n",
        "# Apply log transformation to the data\n",
        "log_transformed_data = np.log(page_load_times)\n",
        "\n",
        "# Plot the original and transformed data\n",
        "plt.figure(figsize=(12, 5))\n",
        "plt.subplot(1, 2, 1)\n",
        "plt.hist(page_load_times, bins=10, color='blue', alpha=0.7)\n",
        "plt.title(\"Original Data\")\n",
        "plt.xlabel(\"Page Load Times (ms)\")\n",
        "plt.ylabel(\"Frequency\")\n",
        "\n",
        "plt.subplot(1, 2, 2)\n",
        "plt.hist(log_transformed_data, bins=10, color='green', alpha=0.7)\n",
        "plt.title(\"Log Transformed Data\")\n",
        "plt.xlabel(\"Log(Page Load Times)\")\n",
        "plt.ylabel(\"Frequency\")\n",
        "\n",
        "plt.tight_layout()\n",
        "plt.show()\n"
      ],
      "metadata": {
        "colab": {
          "base_uri": "https://localhost:8080/",
          "height": 507
        },
        "id": "eZjqYNhgl9go",
        "outputId": "74b2599d-e575-44e9-94e0-deab5627e1ac"
      },
      "execution_count": null,
      "outputs": [
        {
          "output_type": "display_data",
          "data": {
            "text/plain": [
              "<Figure size 1200x500 with 2 Axes>"
            ],
            "image/png": "[encoded data removed]"
          },
          "metadata": {}
        }
      ]
    },
    {
      "cell_type": "markdown",
      "source": [
        "In this solution, we applied a natural logarithm (log) transformation to the original dataset of page load times. The log transformation helps reduce the influence of extreme values and makes the data distribution more symmetric.\n",
        "\n",
        "As you can see in the side-by-side histograms, the log-transformed data shows a more balanced distribution, and the impact of the outlier is less pronounced."
      ],
      "metadata": {
        "id": "hRIoDAy8ujWD"
      }
    },
    {
      "cell_type": "markdown",
      "source": [
        "# Exercise:\n",
        "\n",
        "Imagine you have a dataset of product purchase prices from an e-commerce website. The dataset exhibits a positive skew, with a few high-value purchases. In this exercise, you will apply a log transformation to the dataset and compare the distributions before and after transformation.\n",
        "\n",
        "Follow these steps to handle outliers using log transformation:\n",
        "\n",
        "- Given a dataset of product purchase prices, apply the natural logarithm (log) transformation to the data.\n",
        "- Create histograms to visualize the data distribution before and after log transformation.\n",
        "- Describe the impact of log transformation on the data distribution and outlier handling."
      ],
      "metadata": {
        "id": "bHSINk9Lun0j"
      }
    },
    {
      "cell_type": "markdown",
      "source": [
        "- Purchase Prices (in dollars): [10, 15, 20, 25, 30, 50, 80, 100, 120, 150, 200, 250, 500, 1000, 1500, 2000]\n"
      ],
      "metadata": {
        "id": "VT8M31PRuu7Q"
      }
    },
    {
      "cell_type": "code",
      "source": [
        "#YOUR CODE"
      ],
      "metadata": {
        "id": "ccj9tumWudmU"
      },
      "execution_count": null,
      "outputs": []
    },
    {
      "cell_type": "markdown",
      "source": [
        "# Handling Outliers Using Trimming\n",
        "\n",
        "Trimming involves removing a certain percentage of data points from both ends of the dataset to eliminate extreme values without imputing or modifying the data.\n",
        "\n",
        "Example: You have a dataset of monthly customer transaction amounts. Trimming can help you focus on typical customer spending patterns while excluding unusually high or low transactions.\n",
        "\n",
        "Given a dataset of monthly customer transaction amounts, perform trimming by removing the top and bottom 10% of data points and compare the modified dataset with the original one."
      ],
      "metadata": {
        "id": "RVoiXBz4u_h0"
      }
    },
    {
      "cell_type": "code",
      "source": [
        "import numpy as np\n",
        "\n",
        "# Given data\n",
        "transaction_amounts = [100, 120, 130, 150, 500, 600, 800, 850, 900, 950, 1000, 1200, 1500, 2000, 5000, 8000]\n",
        "\n",
        "# Define trimming percentage (top and bottom)\n",
        "trim_percentage = 10  # 10% trimming\n",
        "\n",
        "# Calculate the number of data points to trim from each end\n",
        "num_points_to_trim = int(len(transaction_amounts) * (trim_percentage / 100))\n",
        "\n",
        "# Sort the data in ascending order\n",
        "sorted_data = np.sort(transaction_amounts)\n",
        "\n",
        "# Perform trimming\n",
        "trimmed_data = sorted_data[num_points_to_trim:-num_points_to_trim]\n",
        "\n",
        "# Print the original and trimmed data\n",
        "print(\"Original Data:\")\n",
        "print(transaction_amounts)\n",
        "print(\"\\nTrimmed Data:\")\n",
        "print(trimmed_data)\n"
      ],
      "metadata": {
        "colab": {
          "base_uri": "https://localhost:8080/"
        },
        "id": "egkWXspVvGed",
        "outputId": "e78fec29-2566-4494-ed13-8a2119be24fa"
      },
      "execution_count": null,
      "outputs": [
        {
          "output_type": "stream",
          "name": "stdout",
          "text": [
            "Original Data:\n",
            "[100, 120, 130, 150, 500, 600, 800, 850, 900, 950, 1000, 1200, 1500, 2000, 5000, 8000]\n",
            "\n",
            "Trimmed Data:\n",
            "[ 120  130  150  500  600  800  850  900  950 1000 1200 1500 2000 5000]\n"
          ]
        }
      ]
    },
    {
      "cell_type": "markdown",
      "source": [
        "# Exercise:\n",
        "\n",
        "Consider a dataset of monthly electricity bills for a set of households. The dataset exhibits some extreme values, likely due to unusually high or low consumption. In this exercise, you will perform trimming by removing the top and bottom 15% of data points and compare the modified dataset with the original one.\n",
        "\n",
        "Follow these steps to handle outliers using trimming:\n",
        "\n",
        "- Given a dataset of monthly electricity bills, calculate the number of data points to trim from both ends (15% from each end).\n",
        "- Sort the data in ascending order.\n",
        "- Perform trimming to create a modified dataset with the extreme values removed.\n",
        "- Compare the original dataset with the trimmed dataset.\n",
        "\n",
        "- Data Electricity Bills (in dollars): [60, 70, 75, 80, 90, 120, 130, 140, 150, 160, 180, 190, 250, 300, 600, 1000]\n"
      ],
      "metadata": {
        "id": "-JLoj6_evlai"
      }
    },
    {
      "cell_type": "code",
      "source": [
        "#YOUR CODE"
      ],
      "metadata": {
        "id": "rnBOtY6ovJlw"
      },
      "execution_count": null,
      "outputs": []
    },
    {
      "cell_type": "markdown",
      "source": [
        "# Scaling data\n",
        "\n",
        "The two common ways of scaling data are Normalization and Standardization. These techniques are essential when dealing with numerical features that have different ranges, especially for algorithms that rely on distance metrics like k-NN or k-Means.\n",
        "\n",
        "## Normalization (Min-Max Scaling):\n",
        "\n",
        "Normalization scales the features to a specific range, typically between 0 and 1. It's suitable when the original data does not follow a normal distribution and when you want to preserve the relationships between features."
      ],
      "metadata": {
        "id": "LS8TkCexwSOA"
      }
    },
    {
      "cell_type": "code",
      "source": [
        "import numpy as np\n",
        "\n",
        "# Given data\n",
        "data = np.array([10, 20, 30, 40, 50])\n",
        "\n",
        "# Normalize the data to the range [0, 1]\n",
        "min_val = min(data)\n",
        "max_val = max(data)\n",
        "normalized_data = (data - min_val) / (max_val - min_val)\n",
        "\n",
        "print(\"Original Data:\", data)\n",
        "print(\"Normalized Data:\", normalized_data)\n"
      ],
      "metadata": {
        "colab": {
          "base_uri": "https://localhost:8080/"
        },
        "id": "76nPK0UuvyeC",
        "outputId": "94edca53-c2be-4ee8-9674-e0023e7f0106"
      },
      "execution_count": null,
      "outputs": [
        {
          "output_type": "stream",
          "name": "stdout",
          "text": [
            "Original Data: [10 20 30 40 50]\n",
            "Normalized Data: [0.   0.25 0.5  0.75 1.  ]\n"
          ]
        }
      ]
    },
    {
      "cell_type": "markdown",
      "source": [
        "## Exercise:\n",
        "\n",
        "Given a dataset of temperature values (in degrees Celsius) from a weather station, perform Min-Max scaling (Normalization) to map the temperatures to the range [0, 1]. Explain how this scaling affects the data distribution.\n",
        "\n",
        "- Temperatures (in °C): [10, 15, 20, 25, 30, 35, 40, 45, 50]"
      ],
      "metadata": {
        "id": "Xq0x8n5Kwiaf"
      }
    },
    {
      "cell_type": "code",
      "source": [
        "#YOUR CODE"
      ],
      "metadata": {
        "id": "Z-J3lg1vwe3C"
      },
      "execution_count": null,
      "outputs": []
    },
    {
      "cell_type": "markdown",
      "source": [
        "# Standardization (Z-Score Scaling):\n",
        "\n",
        "Standardization scales the features to have a mean of 0 and a standard deviation of 1. It is suitable when the data follows a normal distribution and when you want to center the data around the mean.\n",
        "\n",
        "\n"
      ],
      "metadata": {
        "id": "zo16iRLvwoWa"
      }
    },
    {
      "cell_type": "code",
      "source": [
        "import numpy as np\n",
        "\n",
        "# Given data\n",
        "data = np.array([10, 20, 30, 40, 50])\n",
        "\n",
        "# Standardize the data (Z-Score scaling)\n",
        "mean = np.mean(data)\n",
        "std_dev = np.std(data)\n",
        "standardized_data = (data - mean) / std_dev\n",
        "\n",
        "print(\"Original Data:\", data)\n",
        "print(\"Standardized Data:\", standardized_data)\n"
      ],
      "metadata": {
        "colab": {
          "base_uri": "https://localhost:8080/"
        },
        "id": "VVk1XSk0wmGu",
        "outputId": "26ad71d3-13ff-4ede-8058-6ede4d9ae10f"
      },
      "execution_count": null,
      "outputs": [
        {
          "output_type": "stream",
          "name": "stdout",
          "text": [
            "Original Data: [10 20 30 40 50]\n",
            "Standardized Data: [-1.41421356 -0.70710678  0.          0.70710678  1.41421356]\n"
          ]
        }
      ]
    },
    {
      "cell_type": "markdown",
      "source": [
        "# Exercise:\n",
        "\n",
        "Given a dataset of exam scores, standardize the scores using Z-Score scaling. Calculate the mean and standard deviation of the original scores and explain how Z-Score scaling transforms the data.\n",
        "\n",
        "- Exam Scores: [60, 65, 70, 75, 80, 85, 90, 95, 100, 105]\n",
        "\n"
      ],
      "metadata": {
        "id": "XdoM0zMmwwDH"
      }
    },
    {
      "cell_type": "code",
      "source": [
        "#YOUR CODE"
      ],
      "metadata": {
        "id": "eDXuBtnWyPoI"
      },
      "execution_count": null,
      "outputs": []
    },
    {
      "cell_type": "markdown",
      "source": [
        "# Data Imbalance\n",
        "\n",
        "Imbalanced classification involves training predictive models that have a severe class imbalance in the training data. Such datasets will create a model that ignores and hence, produce poor performance on minority class. Too few examples of the minority class fails a model to effectively learn the decision boundary.\n",
        "\n",
        "We can solve this problem by oversampling the examples from the minority class. One way to perform this is to duplicate examples from the minority class in the training dataset ; however, this method does not provide any new information for training hthe model. An improvement on duplicating examples from the minority class is to synthesize new examples from the minority class. This is a type of effective data augmentation suitable for tabular data. For example: Synthetic Minority Oversampling TEchnique (SMOTE) selects examples that are close in the feature space, drawing a line between the examples in the feature space and drawing a new sample at a point along that line.\n",
        "\n",
        "Lets see how we can achieve this. We will use the implementations provided by the imbalanced-learn Python library, which can be installed via pip."
      ],
      "metadata": {
        "id": "VWgMBU70qxfv"
      }
    },
    {
      "cell_type": "code",
      "source": [
        "pip install imbalanced-learn"
      ],
      "metadata": {
        "colab": {
          "base_uri": "https://localhost:8080/"
        },
        "id": "O_4Fl1ynrcFc",
        "outputId": "8f7f52f7-fd6c-4713-d0c2-84ba11876f15"
      },
      "execution_count": null,
      "outputs": [
        {
          "output_type": "stream",
          "name": "stdout",
          "text": [
            "Requirement already satisfied: imbalanced-learn in /usr/local/lib/python3.10/dist-packages (0.10.1)\n",
            "Requirement already satisfied: numpy>=1.17.3 in /usr/local/lib/python3.10/dist-packages (from imbalanced-learn) (1.23.5)\n",
            "Requirement already satisfied: scipy>=1.3.2 in /usr/local/lib/python3.10/dist-packages (from imbalanced-learn) (1.11.3)\n",
            "Requirement already satisfied: scikit-learn>=1.0.2 in /usr/local/lib/python3.10/dist-packages (from imbalanced-learn) (1.2.2)\n",
            "Requirement already satisfied: joblib>=1.1.1 in /usr/local/lib/python3.10/dist-packages (from imbalanced-learn) (1.3.2)\n",
            "Requirement already satisfied: threadpoolctl>=2.0.0 in /usr/local/lib/python3.10/dist-packages (from imbalanced-learn) (3.2.0)\n"
          ]
        }
      ]
    },
    {
      "cell_type": "code",
      "source": [
        "# Generate and plot a synthetic imbalanced classification dataset\n",
        "from collections import Counter\n",
        "from sklearn.datasets import make_classification\n",
        "from matplotlib import pyplot\n",
        "from numpy import where"
      ],
      "metadata": {
        "id": "fXpPK2j6sifP"
      },
      "execution_count": null,
      "outputs": []
    },
    {
      "cell_type": "markdown",
      "source": [
        "We can use the make_classification() scikit-learn function to create a synthetic binary classification dataset with 10,000 examples and a 1:100 class distribution."
      ],
      "metadata": {
        "id": "tpocDKsTsnSA"
      }
    },
    {
      "cell_type": "code",
      "source": [
        "# define dataset\n",
        "X, y = make_classification(n_samples=10000, n_features=2, n_redundant=0, n_clusters_per_class=1, weights=[0.99], flip_y=0, random_state=1)"
      ],
      "metadata": {
        "id": "MIEv65VKsYMT"
      },
      "execution_count": null,
      "outputs": []
    },
    {
      "cell_type": "markdown",
      "source": [
        "We can use the Counter object to summarize the number of examples in each class to confirm the dataset was created correctly."
      ],
      "metadata": {
        "id": "FrY7u59ltvZG"
      }
    },
    {
      "cell_type": "code",
      "source": [
        "# summarize class distribution\n",
        "counter = Counter(y)\n",
        "print(counter)"
      ],
      "metadata": {
        "colab": {
          "base_uri": "https://localhost:8080/"
        },
        "id": "dgTk7hi5sewI",
        "outputId": "4a2eb3a8-6da8-4f5c-c821-94e4e19f2c6c"
      },
      "execution_count": null,
      "outputs": [
        {
          "output_type": "stream",
          "name": "stdout",
          "text": [
            "Counter({0: 9900, 1: 100})\n"
          ]
        }
      ]
    },
    {
      "cell_type": "markdown",
      "source": [
        "Finally, we can create a scatter plot of the dataset and color the examples for each class a different color to clearly see the spatial nature of the class imbalance."
      ],
      "metadata": {
        "id": "0dw7XVFZtyUm"
      }
    },
    {
      "cell_type": "code",
      "source": [
        "# scatter plot of examples by class label\n",
        "for label, _ in counter.items():\n",
        "\trow_ix = where(y == label)[0]\n",
        "\tpyplot.scatter(X[row_ix, 0], X[row_ix, 1], label=str(label))\n",
        "pyplot.legend()\n",
        "pyplot.show()"
      ],
      "metadata": {
        "colab": {
          "base_uri": "https://localhost:8080/",
          "height": 430
        },
        "id": "WUjodEJusuHP",
        "outputId": "08fa6cdf-3022-471d-8546-4465ee4653d8"
      },
      "execution_count": null,
      "outputs": [
        {
          "output_type": "display_data",
          "data": {
            "text/plain": [
              "<Figure size 640x480 with 1 Axes>"
            ],
            "image/png": "[encoded data removed]"
          },
          "metadata": {}
        }
      ]
    },
    {
      "cell_type": "markdown",
      "source": [
        "A scatter plot of the dataset is created showing the large mass of points that belong to the majority class (blue) and a small number of points spread out for the minority class (orange). We can see some measure of overlap between the two classes."
      ],
      "metadata": {
        "id": "eZtL3Xj-s1m5"
      }
    },
    {
      "cell_type": "markdown",
      "source": [
        "# SMOTE:\n",
        "\n",
        "We can oversample the minority class using SMOTE and plot the transformed dataset.\n",
        "\n",
        "We can use the SMOTE implementation provided by the imbalanced-learn Python library in the SMOTE class.\n",
        "\n",
        "The SMOTE class acts like a data transform object from scikit-learn in that it must be defined and configured, fit on a dataset, then applied to create a new transformed version of the dataset."
      ],
      "metadata": {
        "id": "0JWalYTxs5Z0"
      }
    },
    {
      "cell_type": "code",
      "source": [
        "from collections import Counter\n",
        "from sklearn.datasets import make_classification\n",
        "from imblearn.over_sampling import SMOTE\n",
        "from matplotlib import pyplot\n",
        "from numpy import where"
      ],
      "metadata": {
        "id": "C6Vumo-pswdd"
      },
      "execution_count": null,
      "outputs": []
    },
    {
      "cell_type": "code",
      "source": [
        "# define dataset\n",
        "X, y = make_classification(n_samples=10000, n_features=2, n_redundant=0,\n",
        "\tn_clusters_per_class=1, weights=[0.99], flip_y=0, random_state=1)\n",
        "# summarize class distribution\n",
        "counter = Counter(y)\n",
        "print(counter)"
      ],
      "metadata": {
        "colab": {
          "base_uri": "https://localhost:8080/"
        },
        "id": "lq55kUqAs-rI",
        "outputId": "6c523551-798d-415e-f9c1-8638d57b1190"
      },
      "execution_count": null,
      "outputs": [
        {
          "output_type": "stream",
          "name": "stdout",
          "text": [
            "Counter({0: 9900, 1: 100})\n"
          ]
        }
      ]
    },
    {
      "cell_type": "markdown",
      "source": [
        "We can define a SMOTE instance with default parameters that will balance the minority class and then fit and apply it in one step to create a transformed version of our dataset."
      ],
      "metadata": {
        "id": "qmirWA18uAxS"
      }
    },
    {
      "cell_type": "code",
      "source": [
        "# transform the dataset\n",
        "oversample = SMOTE()\n",
        "X, y = oversample.fit_resample(X, y)"
      ],
      "metadata": {
        "id": "ZW9GeVhJtBL8"
      },
      "execution_count": null,
      "outputs": []
    },
    {
      "cell_type": "markdown",
      "source": [
        "Once transformed, we can summarize the class distribution of the new transformed dataset, which would expect to now be balanced through the creation of many new synthetic examples in the minority class."
      ],
      "metadata": {
        "id": "_uOebLqVuGE3"
      }
    },
    {
      "cell_type": "code",
      "source": [
        "# summarize the new class distribution\n",
        "counter = Counter(y)\n",
        "print(counter)"
      ],
      "metadata": {
        "colab": {
          "base_uri": "https://localhost:8080/"
        },
        "id": "kQXy2eo1uH9a",
        "outputId": "e7335006-9435-4400-be8b-d44b860f2fee"
      },
      "execution_count": null,
      "outputs": [
        {
          "output_type": "stream",
          "name": "stdout",
          "text": [
            "Counter({0: 9900, 1: 9900})\n"
          ]
        }
      ]
    },
    {
      "cell_type": "markdown",
      "source": [
        "A scatter plot of the transformed dataset can also be created and we would expect to see many more examples for the minority class on lines between the original examples in the minority class."
      ],
      "metadata": {
        "id": "GGYCxf-yuL2I"
      }
    },
    {
      "cell_type": "code",
      "source": [
        "# scatter plot of examples by class label\n",
        "for label, _ in counter.items():\n",
        "\trow_ix = where(y == label)[0]\n",
        "\tpyplot.scatter(X[row_ix, 0], X[row_ix, 1], label=str(label))\n",
        "pyplot.legend()\n",
        "pyplot.show()"
      ],
      "metadata": {
        "colab": {
          "base_uri": "https://localhost:8080/",
          "height": 430
        },
        "id": "TF0TqKvhtDjy",
        "outputId": "666cf144-b0cc-492f-c5f6-7ce67ed1280b"
      },
      "execution_count": null,
      "outputs": [
        {
          "output_type": "display_data",
          "data": {
            "text/plain": [
              "<Figure size 640x480 with 1 Axes>"
            ],
            "image/png": "[encoded data removed]"
          },
          "metadata": {}
        }
      ]
    },
    {
      "cell_type": "markdown",
      "source": [
        "#Approach 2:\n",
        "\n",
        "The original paper on SMOTE suggested combining SMOTE with random undersampling of the majority class.\n",
        "\n",
        "The imbalanced-learn library supports random undersampling via the RandomUnderSampler class."
      ],
      "metadata": {
        "id": "UcHNh_-atSws"
      }
    },
    {
      "cell_type": "code",
      "source": [
        "# Oversample with SMOTE and random undersample for imbalanced dataset\n",
        "from collections import Counter\n",
        "from sklearn.datasets import make_classification\n",
        "from imblearn.over_sampling import SMOTE\n",
        "from imblearn.under_sampling import RandomUnderSampler\n",
        "from imblearn.pipeline import Pipeline\n",
        "from matplotlib import pyplot\n",
        "from numpy import where"
      ],
      "metadata": {
        "id": "5_3S0txAtJAR"
      },
      "execution_count": null,
      "outputs": []
    },
    {
      "cell_type": "code",
      "source": [
        "# define dataset\n",
        "X, y = make_classification(n_samples=10000, n_features=2, n_redundant=0,\n",
        "\tn_clusters_per_class=1, weights=[0.99], flip_y=0, random_state=1)\n",
        "# summarize class distribution\n",
        "counter = Counter(y)\n",
        "print(counter)"
      ],
      "metadata": {
        "colab": {
          "base_uri": "https://localhost:8080/"
        },
        "id": "HxOdNH3ptdbC",
        "outputId": "e9c0c1fa-1bb4-4dde-e733-c77cfb851800"
      },
      "execution_count": null,
      "outputs": [
        {
          "output_type": "stream",
          "name": "stdout",
          "text": [
            "Counter({0: 9900, 1: 100})\n"
          ]
        }
      ]
    },
    {
      "cell_type": "markdown",
      "source": [
        "We can update the example to first oversample the minority class to have 10 percent the number of examples of the majority class (e.g. about 1,000), then use random undersampling to reduce the number of examples in the majority class to have 50 percent more than the minority class (e.g. about 2,000).\n",
        "\n",
        "To implement this, we can specify the desired ratios as arguments to the SMOTE and RandomUnderSampler classes."
      ],
      "metadata": {
        "id": "W42B26FHuVWc"
      }
    },
    {
      "cell_type": "code",
      "source": [
        "# define pipeline\n",
        "over = SMOTE(sampling_strategy=0.1)\n",
        "under = RandomUnderSampler(sampling_strategy=0.5)"
      ],
      "metadata": {
        "id": "NpjgGwihtfLz"
      },
      "execution_count": null,
      "outputs": []
    },
    {
      "cell_type": "markdown",
      "source": [
        "We can then chain these two transforms together into a Pipeline.\n",
        "\n",
        "The Pipeline can then be applied to a dataset, performing each transformation in turn and returning a final dataset with the accumulation of the transform applied to it, in this case oversampling followed by undersampling."
      ],
      "metadata": {
        "id": "5887TdT0ubxS"
      }
    },
    {
      "cell_type": "code",
      "source": [
        "steps = [('o', over), ('u', under)]\n",
        "pipeline = Pipeline(steps=steps)"
      ],
      "metadata": {
        "id": "v0ZNcFoTukdx"
      },
      "execution_count": null,
      "outputs": []
    },
    {
      "cell_type": "markdown",
      "source": [
        "The pipeline can then be fit and applied to our dataset just like a single transform:"
      ],
      "metadata": {
        "id": "1R-tQGcVunDr"
      }
    },
    {
      "cell_type": "code",
      "source": [
        "# transform the dataset\n",
        "X, y = pipeline.fit_resample(X, y)\n",
        "# summarize the new class distribution\n",
        "counter = Counter(y)\n",
        "print(counter)"
      ],
      "metadata": {
        "colab": {
          "base_uri": "https://localhost:8080/"
        },
        "id": "fy0Xs8glthVJ",
        "outputId": "1f214697-4a2f-4c1e-f1c0-447b60067f54"
      },
      "execution_count": null,
      "outputs": [
        {
          "output_type": "stream",
          "name": "stdout",
          "text": [
            "Counter({0: 1980, 1: 990})\n"
          ]
        }
      ]
    },
    {
      "cell_type": "code",
      "source": [
        "# scatter plot of examples by class label\n",
        "for label, _ in counter.items():\n",
        "\trow_ix = where(y == label)[0]\n",
        "\tpyplot.scatter(X[row_ix, 0], X[row_ix, 1], label=str(label))\n",
        "pyplot.legend()\n",
        "pyplot.show()"
      ],
      "metadata": {
        "colab": {
          "base_uri": "https://localhost:8080/",
          "height": 430
        },
        "id": "K6-BK5dRtjTB",
        "outputId": "d73c9ac8-3665-40e5-b684-bc25c3731003"
      },
      "execution_count": null,
      "outputs": [
        {
          "output_type": "display_data",
          "data": {
            "text/plain": [
              "<Figure size 640x480 with 1 Axes>"
            ],
            "image/png": "[encoded data removed]"
          },
          "metadata": {}
        }
      ]
    },
    {
      "cell_type": "markdown",
      "source": [
        "We would expect some SMOTE oversampling of the minority class, although not as much as before where the dataset was balanced. We also expect fewer examples in the majority class via random undersampling."
      ],
      "metadata": {
        "id": "mVyBC8LXusJN"
      }
    },
    {
      "cell_type": "markdown",
      "source": [
        "This section for SMOTE was referenced from: https://machinelearningmastery.com/"
      ],
      "metadata": {
        "id": "6c-4uaqmu12U"
      }
    },
    {
      "cell_type": "markdown",
      "source": [
        "# Exercise:\n",
        "\n",
        "Given an imbalance dataset below, apply SMOTE to balance the training dataset Visualize the imbalance dataset and balanced dataset after applying SMOTE.\n",
        "\n",
        "Answer the following questions:\n",
        "- What does the original imbalanced dataset look like?\n",
        "- How does SMOTE help balance the dataset?\n",
        "- Why is it important to balance the dataset in a machine learning task?"
      ],
      "metadata": {
        "id": "OSwGGRm7vbxb"
      }
    },
    {
      "cell_type": "code",
      "source": [
        "import numpy as np\n",
        "from sklearn.datasets import make_classification\n",
        "\n",
        "# Generating an imbalanced dataset with specified class weights\n",
        "X, y = make_classification(\n",
        "    n_classes=2,\n",
        "    class_sep=2,\n",
        "    weights=[0.2, 0.8],  # Class weights for an imbalance ratio)\n",
        "    n_informative=3,\n",
        "    n_redundant=1,\n",
        "    flip_y=0,\n",
        "    n_features=5,\n",
        "    n_clusters_per_class=1,\n",
        "    n_samples=200,\n",
        "    random_state=42\n",
        ")\n",
        "\n",
        "# 'X' contains the features, and 'y' contains the labels (0 or 1) in an imbalanced ratio.\n"
      ],
      "metadata": {
        "id": "7Coipa05vos8"
      },
      "execution_count": null,
      "outputs": []
    },
    {
      "cell_type": "code",
      "source": [
        "#YOUR CODE TO VISUALIZE THE DATA"
      ],
      "metadata": {
        "id": "69uJJOshv0xP"
      },
      "execution_count": null,
      "outputs": []
    },
    {
      "cell_type": "code",
      "source": [
        "#YOUR CODE TO APPLY SMOTE"
      ],
      "metadata": {
        "id": "wWIhBramv4yi"
      },
      "execution_count": null,
      "outputs": []
    },
    {
      "cell_type": "code",
      "source": [
        "#YOUR CODE TO VISUALIZE THE BALANCED DATA"
      ],
      "metadata": {
        "id": "hHMtYrtmv6gN"
      },
      "execution_count": null,
      "outputs": []
    },
    {
      "cell_type": "markdown",
      "source": [
        "# Exercise:\n",
        "\n",
        "Can you train a classification model on both the imbalanced and balanced datasets and observe the difference in the model's performance in terms of accuracy, precsion, recall and F1-score?"
      ],
      "metadata": {
        "id": "mlPSYFCvwC9a"
      }
    },
    {
      "cell_type": "code",
      "source": [
        "#YOUR CODE"
      ],
      "metadata": {
        "id": "0yu36bX1v9kx"
      },
      "execution_count": null,
      "outputs": []
    }
  ]
}